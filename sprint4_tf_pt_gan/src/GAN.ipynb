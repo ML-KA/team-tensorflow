{
 "cells": [
  {
   "cell_type": "markdown",
   "metadata": {},
   "source": [
    "# Introduction to Pytorch/TensorFlow with Generative Models 7.11.2017\n",
    "## Factors to be concerned when building neural networks\n",
    "### Design Choices\n",
    "-  network topology\n",
    "-  initial weights\n",
    "- activation functions\n",
    "- loss functions\n",
    "- backpropagation\n",
    "\n",
    "### Deep Learning Frameworks\n",
    "- power of gpus\n",
    "- programming languages\n",
    "- learning curves for beginners: pytorch vs. tensorflow"
   ]
  },
  {
   "cell_type": "markdown",
   "metadata": {},
   "source": [
    "## PyTorch vs. TensorFlow\n",
    "### Introduction\n",
    "#### TensorFlow\n",
    "- TensorFlow was developed by Google Brain. It is an open source software library for numerical computation using data flow graphs.\n",
    "- Nodes in the graph represent mathematical operations;\n",
    "- Edges represent the multidimensional data arrays (tensors) communicated between them.\n"
   ]
  },
  {
   "cell_type": "markdown",
   "metadata": {},
   "source": [
    "#### PyTorch\n",
    "- PyTorch  is a  of lua-based Torch framework developed by Facebook"
   ]
  },
  {
   "cell_type": "markdown",
   "metadata": {},
   "source": [
    "### Difference\n",
    "#### Static  vs Dynamic Computation Graph\n",
    "- Category 1: static [used in TensorFlow, Theano, Caffe etc.]: the user first defines a computation graph (a symbolic representation of the computation), and then exampes are fed into an engine that executes this computation and computes its derivatives.\n",
    "![title](define_and_run.png)"
   ]
  },
  {
   "cell_type": "markdown",
   "metadata": {},
   "source": [
    "TensorFlow  uses a static graph, which means you need to define graph statically before a model can run\n",
    "- A **tf.Graph** defines the symoblic represention of the computation. It does neither compute anything nor hold any values. \n",
    "- A **tf.Session** executes graphs or part of graphs. It allocates resources for that and holds the actual values of intermediate results and variables"
   ]
  },
  {
   "cell_type": "markdown",
   "metadata": {},
   "source": [
    "**A visualization tool of tensorboard on jupyter notebook**\n",
    "\n",
    "A cloud-hosted TensorBoard instance used to do the rendering:  takes the tf.GraphDef, sends it over to the cloud, and embeds an $<iframe>$ with the resulting visualization right in the Jupyter notebook."
   ]
  },
  {
   "cell_type": "code",
   "execution_count": 1,
   "metadata": {
    "collapsed": true
   },
   "outputs": [],
   "source": [
    "# credit: https://stackoverflow.com/questions/41388673/visualizing-a-tensorflow-graph-in-jupyter-doesnt-work/41463991#41463991\n",
    "# TensorFlow Graph visualizer code\n",
    "import numpy as np\n",
    "from IPython.display import clear_output, Image, display, HTML\n",
    "\n",
    "def strip_consts(graph_def, max_const_size=32):\n",
    "    \"\"\"Strip large constant values from graph_def.\"\"\"\n",
    "    strip_def = tf.GraphDef()\n",
    "    for n0 in graph_def.node:\n",
    "        n = strip_def.node.add() \n",
    "        n.MergeFrom(n0)\n",
    "        if n.op == 'Const':\n",
    "            tensor = n.attr['value'].tensor\n",
    "            size = len(tensor.tensor_content)\n",
    "            if size > max_const_size:\n",
    "                tensor.tensor_content = \"<stripped %d bytes>\"%size\n",
    "    return strip_def\n",
    "\n",
    "def show_graph(graph_def, max_const_size=32):\n",
    "    \"\"\"Visualize TensorFlow graph.\"\"\"\n",
    "    if hasattr(graph_def, 'as_graph_def'):\n",
    "        graph_def = graph_def.as_graph_def()\n",
    "    strip_def = strip_consts(graph_def, max_const_size=max_const_size)\n",
    "    code = \"\"\"\n",
    "        <script src=\"//cdnjs.cloudflare.com/ajax/libs/polymer/0.3.3/platform.js\"></script>\n",
    "        <script>\n",
    "          function load() {{\n",
    "            document.getElementById(\"{id}\").pbtxt = {data};\n",
    "          }}\n",
    "        </script>\n",
    "        <link rel=\"import\" href=\"https://tensorboard.appspot.com/tf-graph-basic.build.html\" onload=load()>\n",
    "        <div style=\"height:600px\">\n",
    "          <tf-graph-basic id=\"{id}\"></tf-graph-basic>\n",
    "        </div>\n",
    "    \"\"\".format(data=repr(str(strip_def)), id='graph'+str(np.random.rand()))\n",
    "\n",
    "    iframe = \"\"\"\n",
    "        <iframe seamless style=\"width:1200px;height:620px;border:0\" srcdoc=\"{}\"></iframe>\n",
    "    \"\"\".format(code.replace('\"', '&quot;'))\n",
    "    display(HTML(iframe))"
   ]
  },
  {
   "cell_type": "markdown",
   "metadata": {},
   "source": [
    "import libraries in tensorflow"
   ]
  },
  {
   "cell_type": "code",
   "execution_count": 2,
   "metadata": {
    "collapsed": true
   },
   "outputs": [],
   "source": [
    "import tensorflow as tf\n",
    "import numpy as np\n",
    "import matplotlib.pyplot as plt\n",
    "import matplotlib.gridspec as gridspec\n",
    "import os"
   ]
  },
  {
   "cell_type": "markdown",
   "metadata": {},
   "source": [
    "**1. Constants** whose values cannot be changed\n",
    "\n",
    "Example 1\n",
    "\n",
    "** hello tensorflow**"
   ]
  },
  {
   "cell_type": "code",
   "execution_count": 3,
   "metadata": {
    "collapsed": false
   },
   "outputs": [
    {
     "name": "stdout",
     "output_type": "stream",
     "text": [
      "Tensor(\"Const:0\", shape=(), dtype=string)\n"
     ]
    }
   ],
   "source": [
    "# at first, create a graph named g0 which contains the \"Hello, TensorFlow!\" operation \n",
    "g0 = tf.Graph() \n",
    "with g0.as_default():\n",
    "    hello = tf.constant(\"Hello, TensorFlow!\")\n",
    "    print(hello)"
   ]
  },
  {
   "cell_type": "code",
   "execution_count": 4,
   "metadata": {
    "collapsed": false
   },
   "outputs": [
    {
     "name": "stdout",
     "output_type": "stream",
     "text": [
      "b'Hello, TensorFlow!'\n"
     ]
    }
   ],
   "source": [
    "# then, execute the above defined operation by using tf.Session\n",
    "sess = tf.Session(graph = g0)\n",
    "print(sess.run(hello)) # 'b' indicates Bytes literals"
   ]
  },
  {
   "cell_type": "markdown",
   "metadata": {},
   "source": [
    "** 2. Variables**  can hold different values as opposed to constants.\n",
    "\n",
    "Example 2"
   ]
  },
  {
   "cell_type": "code",
   "execution_count": 5,
   "metadata": {
    "collapsed": false,
    "scrolled": false
   },
   "outputs": [
    {
     "data": {
      "text/html": [
       "\n",
       "        <iframe seamless style=\"width:1200px;height:620px;border:0\" srcdoc=\"\n",
       "        <script src=&quot;//cdnjs.cloudflare.com/ajax/libs/polymer/0.3.3/platform.js&quot;></script>\n",
       "        <script>\n",
       "          function load() {\n",
       "            document.getElementById(&quot;graph0.7010381183356169&quot;).pbtxt = 'node {\\n  name: &quot;a/initial_value&quot;\\n  op: &quot;Const&quot;\\n  attr {\\n    key: &quot;dtype&quot;\\n    value {\\n      type: DT_INT32\\n    }\\n  }\\n  attr {\\n    key: &quot;value&quot;\\n    value {\\n      tensor {\\n        dtype: DT_INT32\\n        tensor_shape {\\n        }\\n        int_val: 94\\n      }\\n    }\\n  }\\n}\\nnode {\\n  name: &quot;a&quot;\\n  op: &quot;VariableV2&quot;\\n  attr {\\n    key: &quot;container&quot;\\n    value {\\n      s: &quot;&quot;\\n    }\\n  }\\n  attr {\\n    key: &quot;dtype&quot;\\n    value {\\n      type: DT_INT32\\n    }\\n  }\\n  attr {\\n    key: &quot;shape&quot;\\n    value {\\n      shape {\\n      }\\n    }\\n  }\\n  attr {\\n    key: &quot;shared_name&quot;\\n    value {\\n      s: &quot;&quot;\\n    }\\n  }\\n}\\nnode {\\n  name: &quot;a/Assign&quot;\\n  op: &quot;Assign&quot;\\n  input: &quot;a&quot;\\n  input: &quot;a/initial_value&quot;\\n  attr {\\n    key: &quot;T&quot;\\n    value {\\n      type: DT_INT32\\n    }\\n  }\\n  attr {\\n    key: &quot;_class&quot;\\n    value {\\n      list {\\n        s: &quot;loc:@a&quot;\\n      }\\n    }\\n  }\\n  attr {\\n    key: &quot;use_locking&quot;\\n    value {\\n      b: true\\n    }\\n  }\\n  attr {\\n    key: &quot;validate_shape&quot;\\n    value {\\n      b: true\\n    }\\n  }\\n}\\nnode {\\n  name: &quot;a/read&quot;\\n  op: &quot;Identity&quot;\\n  input: &quot;a&quot;\\n  attr {\\n    key: &quot;T&quot;\\n    value {\\n      type: DT_INT32\\n    }\\n  }\\n  attr {\\n    key: &quot;_class&quot;\\n    value {\\n      list {\\n        s: &quot;loc:@a&quot;\\n      }\\n    }\\n  }\\n}\\nnode {\\n  name: &quot;init&quot;\\n  op: &quot;NoOp&quot;\\n  input: &quot;^a/Assign&quot;\\n}\\nnode {\\n  name: &quot;Assign/value&quot;\\n  op: &quot;Const&quot;\\n  attr {\\n    key: &quot;dtype&quot;\\n    value {\\n      type: DT_INT32\\n    }\\n  }\\n  attr {\\n    key: &quot;value&quot;\\n    value {\\n      tensor {\\n        dtype: DT_INT32\\n        tensor_shape {\\n        }\\n        int_val: 10\\n      }\\n    }\\n  }\\n}\\nnode {\\n  name: &quot;Assign&quot;\\n  op: &quot;Assign&quot;\\n  input: &quot;a&quot;\\n  input: &quot;Assign/value&quot;\\n  attr {\\n    key: &quot;T&quot;\\n    value {\\n      type: DT_INT32\\n    }\\n  }\\n  attr {\\n    key: &quot;_class&quot;\\n    value {\\n      list {\\n        s: &quot;loc:@a&quot;\\n      }\\n    }\\n  }\\n  attr {\\n    key: &quot;use_locking&quot;\\n    value {\\n      b: false\\n    }\\n  }\\n  attr {\\n    key: &quot;validate_shape&quot;\\n    value {\\n      b: true\\n    }\\n  }\\n}\\n';\n",
       "          }\n",
       "        </script>\n",
       "        <link rel=&quot;import&quot; href=&quot;https://tensorboard.appspot.com/tf-graph-basic.build.html&quot; onload=load()>\n",
       "        <div style=&quot;height:600px&quot;>\n",
       "          <tf-graph-basic id=&quot;graph0.7010381183356169&quot;></tf-graph-basic>\n",
       "        </div>\n",
       "    \"></iframe>\n",
       "    "
      ],
      "text/plain": [
       "<IPython.core.display.HTML object>"
      ]
     },
     "metadata": {},
     "output_type": "display_data"
    }
   ],
   "source": [
    "g1 = tf.Graph()\n",
    "with g1.as_default():\n",
    "    var = tf.Variable(94, name = 'a')\n",
    "    initialize = tf.global_variables_initializer()\n",
    "    assign = var.assign(10)\n",
    "show_graph(g1)"
   ]
  },
  {
   "cell_type": "markdown",
   "metadata": {},
   "source": [
    "When executing variables in TensorFlow, we need to initialize them at first by running, for example, tf.global_variables_initializer()"
   ]
  },
  {
   "cell_type": "code",
   "execution_count": 6,
   "metadata": {
    "collapsed": false
   },
   "outputs": [
    {
     "name": "stdout",
     "output_type": "stream",
     "text": [
      "10\n"
     ]
    }
   ],
   "source": [
    "with tf.Session(graph = g1) as sess:\n",
    "    sess.run(initialize)\n",
    "    sess.run(assign)\n",
    "    print(sess.run(var))"
   ]
  },
  {
   "cell_type": "markdown",
   "metadata": {},
   "source": [
    "Example 3 with TensorFlow\n",
    "\n",
    "** Basic operation **"
   ]
  },
  {
   "cell_type": "code",
   "execution_count": 7,
   "metadata": {
    "collapsed": true
   },
   "outputs": [],
   "source": [
    "g2 = tf.Graph()\n",
    "with g2.as_default():\n",
    "    x = tf.Variable(tf.random_uniform([5,3], 0.0, 1.0))\n",
    "    y = tf.Variable(tf.random_uniform([5,3], 0.0, 1.0))"
   ]
  },
  {
   "cell_type": "code",
   "execution_count": 8,
   "metadata": {
    "collapsed": false
   },
   "outputs": [
    {
     "data": {
      "text/html": [
       "\n",
       "        <iframe seamless style=\"width:1200px;height:620px;border:0\" srcdoc=\"\n",
       "        <script src=&quot;//cdnjs.cloudflare.com/ajax/libs/polymer/0.3.3/platform.js&quot;></script>\n",
       "        <script>\n",
       "          function load() {\n",
       "            document.getElementById(&quot;graph0.9717736962495053&quot;).pbtxt = 'node {\\n  name: &quot;random_uniform/shape&quot;\\n  op: &quot;Const&quot;\\n  attr {\\n    key: &quot;dtype&quot;\\n    value {\\n      type: DT_INT32\\n    }\\n  }\\n  attr {\\n    key: &quot;value&quot;\\n    value {\\n      tensor {\\n        dtype: DT_INT32\\n        tensor_shape {\\n          dim {\\n            size: 2\\n          }\\n        }\\n        tensor_content: &quot;\\\\005\\\\000\\\\000\\\\000\\\\003\\\\000\\\\000\\\\000&quot;\\n      }\\n    }\\n  }\\n}\\nnode {\\n  name: &quot;random_uniform/min&quot;\\n  op: &quot;Const&quot;\\n  attr {\\n    key: &quot;dtype&quot;\\n    value {\\n      type: DT_FLOAT\\n    }\\n  }\\n  attr {\\n    key: &quot;value&quot;\\n    value {\\n      tensor {\\n        dtype: DT_FLOAT\\n        tensor_shape {\\n        }\\n        float_val: 0.0\\n      }\\n    }\\n  }\\n}\\nnode {\\n  name: &quot;random_uniform/max&quot;\\n  op: &quot;Const&quot;\\n  attr {\\n    key: &quot;dtype&quot;\\n    value {\\n      type: DT_FLOAT\\n    }\\n  }\\n  attr {\\n    key: &quot;value&quot;\\n    value {\\n      tensor {\\n        dtype: DT_FLOAT\\n        tensor_shape {\\n        }\\n        float_val: 1.0\\n      }\\n    }\\n  }\\n}\\nnode {\\n  name: &quot;random_uniform/RandomUniform&quot;\\n  op: &quot;RandomUniform&quot;\\n  input: &quot;random_uniform/shape&quot;\\n  attr {\\n    key: &quot;T&quot;\\n    value {\\n      type: DT_INT32\\n    }\\n  }\\n  attr {\\n    key: &quot;dtype&quot;\\n    value {\\n      type: DT_FLOAT\\n    }\\n  }\\n  attr {\\n    key: &quot;seed&quot;\\n    value {\\n      i: 0\\n    }\\n  }\\n  attr {\\n    key: &quot;seed2&quot;\\n    value {\\n      i: 0\\n    }\\n  }\\n}\\nnode {\\n  name: &quot;random_uniform/sub&quot;\\n  op: &quot;Sub&quot;\\n  input: &quot;random_uniform/max&quot;\\n  input: &quot;random_uniform/min&quot;\\n  attr {\\n    key: &quot;T&quot;\\n    value {\\n      type: DT_FLOAT\\n    }\\n  }\\n}\\nnode {\\n  name: &quot;random_uniform/mul&quot;\\n  op: &quot;Mul&quot;\\n  input: &quot;random_uniform/RandomUniform&quot;\\n  input: &quot;random_uniform/sub&quot;\\n  attr {\\n    key: &quot;T&quot;\\n    value {\\n      type: DT_FLOAT\\n    }\\n  }\\n}\\nnode {\\n  name: &quot;random_uniform&quot;\\n  op: &quot;Add&quot;\\n  input: &quot;random_uniform/mul&quot;\\n  input: &quot;random_uniform/min&quot;\\n  attr {\\n    key: &quot;T&quot;\\n    value {\\n      type: DT_FLOAT\\n    }\\n  }\\n}\\nnode {\\n  name: &quot;Variable&quot;\\n  op: &quot;VariableV2&quot;\\n  attr {\\n    key: &quot;container&quot;\\n    value {\\n      s: &quot;&quot;\\n    }\\n  }\\n  attr {\\n    key: &quot;dtype&quot;\\n    value {\\n      type: DT_FLOAT\\n    }\\n  }\\n  attr {\\n    key: &quot;shape&quot;\\n    value {\\n      shape {\\n        dim {\\n          size: 5\\n        }\\n        dim {\\n          size: 3\\n        }\\n      }\\n    }\\n  }\\n  attr {\\n    key: &quot;shared_name&quot;\\n    value {\\n      s: &quot;&quot;\\n    }\\n  }\\n}\\nnode {\\n  name: &quot;Variable/Assign&quot;\\n  op: &quot;Assign&quot;\\n  input: &quot;Variable&quot;\\n  input: &quot;random_uniform&quot;\\n  attr {\\n    key: &quot;T&quot;\\n    value {\\n      type: DT_FLOAT\\n    }\\n  }\\n  attr {\\n    key: &quot;_class&quot;\\n    value {\\n      list {\\n        s: &quot;loc:@Variable&quot;\\n      }\\n    }\\n  }\\n  attr {\\n    key: &quot;use_locking&quot;\\n    value {\\n      b: true\\n    }\\n  }\\n  attr {\\n    key: &quot;validate_shape&quot;\\n    value {\\n      b: true\\n    }\\n  }\\n}\\nnode {\\n  name: &quot;Variable/read&quot;\\n  op: &quot;Identity&quot;\\n  input: &quot;Variable&quot;\\n  attr {\\n    key: &quot;T&quot;\\n    value {\\n      type: DT_FLOAT\\n    }\\n  }\\n  attr {\\n    key: &quot;_class&quot;\\n    value {\\n      list {\\n        s: &quot;loc:@Variable&quot;\\n      }\\n    }\\n  }\\n}\\nnode {\\n  name: &quot;random_uniform_1/shape&quot;\\n  op: &quot;Const&quot;\\n  attr {\\n    key: &quot;dtype&quot;\\n    value {\\n      type: DT_INT32\\n    }\\n  }\\n  attr {\\n    key: &quot;value&quot;\\n    value {\\n      tensor {\\n        dtype: DT_INT32\\n        tensor_shape {\\n          dim {\\n            size: 2\\n          }\\n        }\\n        tensor_content: &quot;\\\\005\\\\000\\\\000\\\\000\\\\003\\\\000\\\\000\\\\000&quot;\\n      }\\n    }\\n  }\\n}\\nnode {\\n  name: &quot;random_uniform_1/min&quot;\\n  op: &quot;Const&quot;\\n  attr {\\n    key: &quot;dtype&quot;\\n    value {\\n      type: DT_FLOAT\\n    }\\n  }\\n  attr {\\n    key: &quot;value&quot;\\n    value {\\n      tensor {\\n        dtype: DT_FLOAT\\n        tensor_shape {\\n        }\\n        float_val: 0.0\\n      }\\n    }\\n  }\\n}\\nnode {\\n  name: &quot;random_uniform_1/max&quot;\\n  op: &quot;Const&quot;\\n  attr {\\n    key: &quot;dtype&quot;\\n    value {\\n      type: DT_FLOAT\\n    }\\n  }\\n  attr {\\n    key: &quot;value&quot;\\n    value {\\n      tensor {\\n        dtype: DT_FLOAT\\n        tensor_shape {\\n        }\\n        float_val: 1.0\\n      }\\n    }\\n  }\\n}\\nnode {\\n  name: &quot;random_uniform_1/RandomUniform&quot;\\n  op: &quot;RandomUniform&quot;\\n  input: &quot;random_uniform_1/shape&quot;\\n  attr {\\n    key: &quot;T&quot;\\n    value {\\n      type: DT_INT32\\n    }\\n  }\\n  attr {\\n    key: &quot;dtype&quot;\\n    value {\\n      type: DT_FLOAT\\n    }\\n  }\\n  attr {\\n    key: &quot;seed&quot;\\n    value {\\n      i: 0\\n    }\\n  }\\n  attr {\\n    key: &quot;seed2&quot;\\n    value {\\n      i: 0\\n    }\\n  }\\n}\\nnode {\\n  name: &quot;random_uniform_1/sub&quot;\\n  op: &quot;Sub&quot;\\n  input: &quot;random_uniform_1/max&quot;\\n  input: &quot;random_uniform_1/min&quot;\\n  attr {\\n    key: &quot;T&quot;\\n    value {\\n      type: DT_FLOAT\\n    }\\n  }\\n}\\nnode {\\n  name: &quot;random_uniform_1/mul&quot;\\n  op: &quot;Mul&quot;\\n  input: &quot;random_uniform_1/RandomUniform&quot;\\n  input: &quot;random_uniform_1/sub&quot;\\n  attr {\\n    key: &quot;T&quot;\\n    value {\\n      type: DT_FLOAT\\n    }\\n  }\\n}\\nnode {\\n  name: &quot;random_uniform_1&quot;\\n  op: &quot;Add&quot;\\n  input: &quot;random_uniform_1/mul&quot;\\n  input: &quot;random_uniform_1/min&quot;\\n  attr {\\n    key: &quot;T&quot;\\n    value {\\n      type: DT_FLOAT\\n    }\\n  }\\n}\\nnode {\\n  name: &quot;Variable_1&quot;\\n  op: &quot;VariableV2&quot;\\n  attr {\\n    key: &quot;container&quot;\\n    value {\\n      s: &quot;&quot;\\n    }\\n  }\\n  attr {\\n    key: &quot;dtype&quot;\\n    value {\\n      type: DT_FLOAT\\n    }\\n  }\\n  attr {\\n    key: &quot;shape&quot;\\n    value {\\n      shape {\\n        dim {\\n          size: 5\\n        }\\n        dim {\\n          size: 3\\n        }\\n      }\\n    }\\n  }\\n  attr {\\n    key: &quot;shared_name&quot;\\n    value {\\n      s: &quot;&quot;\\n    }\\n  }\\n}\\nnode {\\n  name: &quot;Variable_1/Assign&quot;\\n  op: &quot;Assign&quot;\\n  input: &quot;Variable_1&quot;\\n  input: &quot;random_uniform_1&quot;\\n  attr {\\n    key: &quot;T&quot;\\n    value {\\n      type: DT_FLOAT\\n    }\\n  }\\n  attr {\\n    key: &quot;_class&quot;\\n    value {\\n      list {\\n        s: &quot;loc:@Variable_1&quot;\\n      }\\n    }\\n  }\\n  attr {\\n    key: &quot;use_locking&quot;\\n    value {\\n      b: true\\n    }\\n  }\\n  attr {\\n    key: &quot;validate_shape&quot;\\n    value {\\n      b: true\\n    }\\n  }\\n}\\nnode {\\n  name: &quot;Variable_1/read&quot;\\n  op: &quot;Identity&quot;\\n  input: &quot;Variable_1&quot;\\n  attr {\\n    key: &quot;T&quot;\\n    value {\\n      type: DT_FLOAT\\n    }\\n  }\\n  attr {\\n    key: &quot;_class&quot;\\n    value {\\n      list {\\n        s: &quot;loc:@Variable_1&quot;\\n      }\\n    }\\n  }\\n}\\n';\n",
       "          }\n",
       "        </script>\n",
       "        <link rel=&quot;import&quot; href=&quot;https://tensorboard.appspot.com/tf-graph-basic.build.html&quot; onload=load()>\n",
       "        <div style=&quot;height:600px&quot;>\n",
       "          <tf-graph-basic id=&quot;graph0.9717736962495053&quot;></tf-graph-basic>\n",
       "        </div>\n",
       "    \"></iframe>\n",
       "    "
      ],
      "text/plain": [
       "<IPython.core.display.HTML object>"
      ]
     },
     "metadata": {},
     "output_type": "display_data"
    }
   ],
   "source": [
    "show_graph(g2)"
   ]
  },
  {
   "cell_type": "markdown",
   "metadata": {},
   "source": [
    "Before running tensorflow.session, $x+y$ only contains the symbolic representation of the operation"
   ]
  },
  {
   "cell_type": "code",
   "execution_count": 9,
   "metadata": {
    "collapsed": false
   },
   "outputs": [
    {
     "data": {
      "text/plain": [
       "<tf.Tensor 'add:0' shape=(5, 3) dtype=float32>"
      ]
     },
     "execution_count": 9,
     "metadata": {},
     "output_type": "execute_result"
    }
   ],
   "source": [
    "x+y"
   ]
  },
  {
   "cell_type": "code",
   "execution_count": 10,
   "metadata": {
    "collapsed": false,
    "scrolled": false
   },
   "outputs": [
    {
     "name": "stdout",
     "output_type": "stream",
     "text": [
      "[[ 1.03706896  0.43234122  0.62551689]\n",
      " [ 1.50199294  0.6065625   0.93252313]\n",
      " [ 0.48913479  1.19993126  0.65068138]\n",
      " [ 1.75023031  0.85043037  0.56525409]\n",
      " [ 1.39293563  0.27669728  0.82497942]]\n"
     ]
    }
   ],
   "source": [
    "with tf.Session(graph = g2) as sess:\n",
    "    sess.run(tf.global_variables_initializer())\n",
    "    print(sess.run(x+y))"
   ]
  },
  {
   "cell_type": "markdown",
   "metadata": {},
   "source": [
    "** 3. Placeholder ** are tensors which are waiting to be initialized/fed. Placeholders are used for training data which is only fed when the code is actually run inside a session.\n",
    "\n",
    "Exampe 4 with TensorFLow"
   ]
  },
  {
   "cell_type": "code",
   "execution_count": 11,
   "metadata": {
    "collapsed": false
   },
   "outputs": [
    {
     "data": {
      "text/html": [
       "\n",
       "        <iframe seamless style=\"width:1200px;height:620px;border:0\" srcdoc=\"\n",
       "        <script src=&quot;//cdnjs.cloudflare.com/ajax/libs/polymer/0.3.3/platform.js&quot;></script>\n",
       "        <script>\n",
       "          function load() {\n",
       "            document.getElementById(&quot;graph0.2633744420817228&quot;).pbtxt = 'node {\\n  name: &quot;Placeholder&quot;\\n  op: &quot;Placeholder&quot;\\n  attr {\\n    key: &quot;dtype&quot;\\n    value {\\n      type: DT_FLOAT\\n    }\\n  }\\n  attr {\\n    key: &quot;shape&quot;\\n    value {\\n      shape {\\n      }\\n    }\\n  }\\n}\\nnode {\\n  name: &quot;Placeholder_1&quot;\\n  op: &quot;Placeholder&quot;\\n  attr {\\n    key: &quot;dtype&quot;\\n    value {\\n      type: DT_FLOAT\\n    }\\n  }\\n  attr {\\n    key: &quot;shape&quot;\\n    value {\\n      shape {\\n      }\\n    }\\n  }\\n}\\nnode {\\n  name: &quot;Mul&quot;\\n  op: &quot;Mul&quot;\\n  input: &quot;Placeholder&quot;\\n  input: &quot;Placeholder_1&quot;\\n  attr {\\n    key: &quot;T&quot;\\n    value {\\n      type: DT_FLOAT\\n    }\\n  }\\n}\\n';\n",
       "          }\n",
       "        </script>\n",
       "        <link rel=&quot;import&quot; href=&quot;https://tensorboard.appspot.com/tf-graph-basic.build.html&quot; onload=load()>\n",
       "        <div style=&quot;height:600px&quot;>\n",
       "          <tf-graph-basic id=&quot;graph0.2633744420817228&quot;></tf-graph-basic>\n",
       "        </div>\n",
       "    \"></iframe>\n",
       "    "
      ],
      "text/plain": [
       "<IPython.core.display.HTML object>"
      ]
     },
     "metadata": {},
     "output_type": "display_data"
    }
   ],
   "source": [
    "g3 = tf.Graph()\n",
    "with g3.as_default():\n",
    "    a = tf.placeholder(\"float\")\n",
    "    b = tf.placeholder(\"float\")\n",
    "    y = tf.multiply(a, b)\n",
    "show_graph(g3)"
   ]
  },
  {
   "cell_type": "markdown",
   "metadata": {},
   "source": [
    "What is fed to Placeholder is called **feed_dict**. Feed_dict are key value pairs for holding data:"
   ]
  },
  {
   "cell_type": "code",
   "execution_count": 12,
   "metadata": {
    "collapsed": false
   },
   "outputs": [
    {
     "name": "stdout",
     "output_type": "stream",
     "text": [
      "6.0\n"
     ]
    }
   ],
   "source": [
    "feed_dict ={a:2,b:3}\n",
    "with tf.Session(graph = g3) as sess:\n",
    "    print(sess.run(y,feed_dict))"
   ]
  },
  {
   "cell_type": "markdown",
   "metadata": {},
   "source": [
    "- To show TensorBoard locally, we write the graph into the 'logs' directory\n",
    "- Open terminal, type: tensorboard --logdir = DIR\n",
    "- It will be located at localhost:6006"
   ]
  },
  {
   "cell_type": "code",
   "execution_count": 13,
   "metadata": {
    "collapsed": false
   },
   "outputs": [],
   "source": [
    "tf.summary.FileWriter(\"logs\", g3).close()"
   ]
  },
  {
   "cell_type": "markdown",
   "metadata": {},
   "source": [
    "- Category 2: dynamic [used in PyTorch, Chainer, Dynet]\n",
    "![title](define_by_run.png)"
   ]
  },
  {
   "cell_type": "markdown",
   "metadata": {},
   "source": [
    "**PyTorch** uses a dynamic graph, which means you can define, change and execute nodes on the fly, no special session interfaces or placeholders. \n",
    "\n",
    "- Make it more pythonic!"
   ]
  },
  {
   "cell_type": "markdown",
   "metadata": {},
   "source": [
    "import libraries in pytorch"
   ]
  },
  {
   "cell_type": "code",
   "execution_count": 14,
   "metadata": {
    "collapsed": true
   },
   "outputs": [],
   "source": [
    "import torch\n",
    "import torch.nn as nn\n",
    "import torch.nn.functional as F\n",
    "import torch.optim as optim\n",
    "from torch.autograd import Variable"
   ]
  },
  {
   "cell_type": "markdown",
   "metadata": {},
   "source": [
    "Example 3 with PyTorch"
   ]
  },
  {
   "cell_type": "code",
   "execution_count": 15,
   "metadata": {
    "collapsed": false
   },
   "outputs": [
    {
     "name": "stdout",
     "output_type": "stream",
     "text": [
      "\n",
      " 0.4208  0.8971  0.7463\n",
      " 0.3719  0.4638  0.9866\n",
      " 0.0475  0.1447  0.5514\n",
      " 0.5874  0.0788  0.5132\n",
      " 0.8437  0.8861  0.6513\n",
      "[torch.FloatTensor of size 5x3]\n",
      "\n"
     ]
    }
   ],
   "source": [
    "x = torch.rand(5,3)\n",
    "print(x)"
   ]
  },
  {
   "cell_type": "code",
   "execution_count": 16,
   "metadata": {
    "collapsed": false
   },
   "outputs": [
    {
     "name": "stdout",
     "output_type": "stream",
     "text": [
      "\n",
      " 1.4160  1.2703  0.9148\n",
      " 0.4415  1.3625  1.0475\n",
      " 0.1288  0.5747  1.0162\n",
      " 1.3011  0.3810  1.1712\n",
      " 1.4749  1.0265  0.8225\n",
      "[torch.FloatTensor of size 5x3]\n",
      "\n"
     ]
    }
   ],
   "source": [
    "y = torch.rand(5,3)\n",
    "print(x + y)"
   ]
  },
  {
   "cell_type": "markdown",
   "metadata": {},
   "source": [
    "** Summary: PyTorch vs TensorFlow **\n",
    "- Users of PyTorch who had Python programming experiences would have much lower learning curves thanks to Pytorch being more pythonic\n",
    "- With PyTorch you can quickly try new models out\n",
    "- Easier to debug with PyTorch\n",
    "- Better visualization with TensorFlow thanks to TensorBoard\n",
    "- TensoFlow is more suitable for production and deployment. It can be deployed on mobile platforms\n",
    "- TensorFlow enables large-scale distributed model training "
   ]
  },
  {
   "cell_type": "markdown",
   "metadata": {},
   "source": [
    "## Generative Models\n",
    "- Generative Adversarial Networks (GANs)\n",
    "- Variational Autoencoders (VAEs)"
   ]
  },
  {
   "cell_type": "markdown",
   "metadata": {},
   "source": [
    "#### Datasets: MNIST"
   ]
  },
  {
   "cell_type": "code",
   "execution_count": 17,
   "metadata": {
    "collapsed": false
   },
   "outputs": [],
   "source": [
    "def load_data():\n",
    "    from tensorflow.examples.tutorials.mnist import input_data\n",
    "    mnist = input_data.read_data_sets(\"../MNIST_data/\", one_hot=True)\n",
    "    return mnist"
   ]
  },
  {
   "cell_type": "code",
   "execution_count": 18,
   "metadata": {
    "collapsed": false
   },
   "outputs": [
    {
     "name": "stdout",
     "output_type": "stream",
     "text": [
      "Extracting ../MNIST_data/train-images-idx3-ubyte.gz\n",
      "Extracting ../MNIST_data/train-labels-idx1-ubyte.gz\n",
      "Extracting ../MNIST_data/t10k-images-idx3-ubyte.gz\n",
      "Extracting ../MNIST_data/t10k-labels-idx1-ubyte.gz\n"
     ]
    }
   ],
   "source": [
    "mnist = load_data()"
   ]
  },
  {
   "cell_type": "markdown",
   "metadata": {},
   "source": [
    "### GANs\n",
    "![title](gan.png)"
   ]
  },
  {
   "cell_type": "markdown",
   "metadata": {},
   "source": [
    "![title](gan_alg.png)"
   ]
  },
  {
   "cell_type": "markdown",
   "metadata": {},
   "source": [
    "global parameters"
   ]
  },
  {
   "cell_type": "code",
   "execution_count": 19,
   "metadata": {
    "collapsed": false
   },
   "outputs": [],
   "source": [
    "g_output_size = 784\n",
    "g_input_size = 100\n",
    "g_hidden_size = 128\n",
    "minibatch_size = 128\n",
    "num_epochs = 50000\n",
    "learning_rate = 1e-3"
   ]
  },
  {
   "cell_type": "markdown",
   "metadata": {},
   "source": [
    "**weight initialization** \n",
    "\n",
    "(Xavier initialization: http://andyljones.tumblr.com/post/110998971763/an-explanation-of-xavier-initialization)\n",
    "\n",
    "TensorFLow"
   ]
  },
  {
   "cell_type": "code",
   "execution_count": 20,
   "metadata": {
    "collapsed": false
   },
   "outputs": [],
   "source": [
    "xavier_init = tf.contrib.layers.xavier_initializer()\n",
    "zero_init = tf.zeros_initializer()"
   ]
  },
  {
   "cell_type": "markdown",
   "metadata": {},
   "source": [
    "**Generative Net**\n",
    "- Input: *m* noise samples **z** sampled from noise prior $p_g(z)$\n",
    "- In this tutorial, we use a simple fully connected one hidden layer net for generator and discriminator\n",
    "- You can try it yourself with deeper convolutional nets\n",
    "- We follow the orginal GAN paper, where no dropout was used for the generator\n",
    "- We use exponential linear unit (ELU) as our activation function of the hidden layer\n",
    "- We use sigmoid as our activation function of the output layer"
   ]
  },
  {
   "cell_type": "markdown",
   "metadata": {},
   "source": [
    "TensorFlow"
   ]
  },
  {
   "cell_type": "code",
   "execution_count": 21,
   "metadata": {
    "collapsed": false
   },
   "outputs": [],
   "source": [
    "def sample_Z_tf(minibatch_size, g_input_size):\n",
    "    return np.random.uniform(-1.0, 1.0, size=[minibatch_size, g_input_size]).astype(np.float32)\n",
    "\n",
    "def generator_tf(z):\n",
    "    with tf.variable_scope('generator'):\n",
    "\n",
    "        W1 = tf.get_variable('Gen_W1', [g_input_size, g_hidden_size], initializer=xavier_init)\n",
    "        B1 = tf.get_variable('Gen_B1', [g_hidden_size ], initializer=zero_init)\n",
    "        W2 = tf.get_variable('Gen_W2', [g_hidden_size , g_output_size],initializer=xavier_init)\n",
    "                                                \n",
    "        B2 = tf.get_variable('Gen_B2', [g_output_size], initializer=zero_init)\n",
    "\n",
    "        # summary\n",
    "        tf.summary.histogram('weight1', W1)\n",
    "        tf.summary.histogram('weight2', W2)\n",
    "        tf.summary.histogram('biases1', B1)\n",
    "        tf.summary.histogram('biases2', B2)\n",
    "\n",
    "        Gen_h1 = tf.nn.elu((tf.matmul(z, W1) + B1))\n",
    "        Gen_out = tf.nn.sigmoid((tf.matmul(Gen_h1, W2) + B2))\n",
    "    \n",
    "        return Gen_out"
   ]
  },
  {
   "cell_type": "markdown",
   "metadata": {},
   "source": [
    "pytorch"
   ]
  },
  {
   "cell_type": "markdown",
   "metadata": {},
   "source": [
    "- In PyTorch you define your Models as subclasses of torch.nn.Module.\n",
    "\n",
    "- In the _\\_init__ function, you are supposed to initialize the layers you want to use. \n",
    "\n",
    "- In the forward method, you specify the connections of your layers, meaning that you will use the layers you already initialized in _\\_ini__, in order to re-use the same layer for each forward pass of data you make.\n",
    "\n",
    "- torch.nn.Functional contains some useful functions such as activation functions. However, these are not full layers so if you want to specify a layer of any kind you should use torch.nn.Module.\n",
    "\n",
    "- You can use the torch.nn.Functional conv operations to define a customized layer"
   ]
  },
  {
   "cell_type": "code",
   "execution_count": 22,
   "metadata": {
    "collapsed": false
   },
   "outputs": [],
   "source": [
    "def sample_Z_pytorch():\n",
    "    return lambda minibatch_size, input_size: torch.rand(minibatch_size, input_size)  #uniform distribution\n",
    "\n",
    "class gNet(nn.Module):\n",
    "    def __init__(self, input_size, hidden_size, output_size):\n",
    "        super(gNet, self).__init__()\n",
    "        self.Gen_h1 = nn.Linear(input_size, hidden_size)\n",
    "        self.Gen_out = nn.Linear(hidden_size, output_size)\n",
    "\n",
    "    def forward(self, x):\n",
    "        x = F.elu(self.Gen_h1(x))\n",
    "        x = F.sigmoid(self.Gen_out(x))\n",
    "        return x "
   ]
  },
  {
   "cell_type": "markdown",
   "metadata": {},
   "source": [
    "**Discriminator Net**\n",
    "- Output: a single scalar representing the probability that **x** came from the data rather than $p_g$\n",
    "- Dropout is used for avoiding overfitting, the probability of keep a neuron is set at 0.5"
   ]
  },
  {
   "cell_type": "markdown",
   "metadata": {},
   "source": [
    "Tensorflow"
   ]
  },
  {
   "cell_type": "code",
   "execution_count": 23,
   "metadata": {
    "collapsed": false
   },
   "outputs": [],
   "source": [
    "def discriminator_tf(X, reuse=False):\n",
    "    with tf.variable_scope('discriminator'):\n",
    "        if reuse: \n",
    "            tf.get_variable_scope().reuse_variables()\n",
    "\n",
    "        W1 = tf.get_variable('Dis_W1', [g_output_size, g_hidden_size ],\n",
    "                             initializer=xavier_init)\n",
    "        B1 = tf.get_variable('Dis_B1', [g_hidden_size ], initializer=zero_init)\n",
    "        W2 = tf.get_variable('Dis_W2', [g_hidden_size , 1],\n",
    "                             initializer=xavier_init)\n",
    "        B2 = tf.get_variable('Dis_B2', [1], initializer=zero_init)\n",
    "\n",
    "        # summary\n",
    "        tf.summary.histogram('weight1', W1)\n",
    "        tf.summary.histogram('weight2', W2)\n",
    "        tf.summary.histogram('biases1', B1)\n",
    "        tf.summary.histogram('biases2', B2)\n",
    "\n",
    "        Dis_h1 = tf.nn.elu((tf.matmul(X, W1) + B1))\n",
    "        Dis_h1_dropout = tf.nn.dropout(Dis_h1, 0.5)\n",
    "        Dis_logits = tf.matmul(Dis_h1_dropout, W2) + B2\n",
    "\n",
    "        return Dis_logits"
   ]
  },
  {
   "cell_type": "code",
   "execution_count": 24,
   "metadata": {
    "collapsed": false
   },
   "outputs": [
    {
     "data": {
      "text/plain": [
       "<tf.Tensor 'Generated_Image:0' shape=() dtype=string>"
      ]
     },
     "execution_count": 24,
     "metadata": {},
     "output_type": "execute_result"
    }
   ],
   "source": [
    "with tf.variable_scope('Placeholder'):\n",
    "    # Raw image\n",
    "    X_tf = tf.placeholder(tf.float32, [None, g_output_size])\n",
    "    tf.summary.image('Raw_Image', tf.reshape(X_tf, [-1, 28, 28, 1]), 3)\n",
    "    # Noise\n",
    "    Z_tf = tf.placeholder(tf.float32, [None, g_input_size])  # noise\n",
    "    tf.summary.histogram('Noise', Z_tf)\n",
    "    \n",
    "with tf.variable_scope('GAN'):\n",
    "    Gen_tf = generator_tf(Z_tf)\n",
    "    # making sure that the real images and the synthetic image are fit into the same discriminator\n",
    "    Dis_real_logits_tf = discriminator_tf(X_tf, reuse=False)\n",
    "    Dis_fake_logits_tf = discriminator_tf(Gen_tf, reuse=True) \n",
    "    \n",
    "tf.summary.image('Generated_Image', tf.reshape(Gen_tf, [-1, 28, 28, 1]), 3)"
   ]
  },
  {
   "cell_type": "markdown",
   "metadata": {},
   "source": [
    "pytorch"
   ]
  },
  {
   "cell_type": "code",
   "execution_count": 25,
   "metadata": {
    "collapsed": true
   },
   "outputs": [],
   "source": [
    "class dNet(nn.Module):\n",
    "    def __init__(self, input_size, hidden_size, output_size):\n",
    "        super(dNet, self).__init__()\n",
    "        self.Dis_h1 = nn.Linear(input_size, hidden_size)\n",
    "        self.Dis_h1_dropout = nn.Dropout(p=0.5)  # keep_prob = 0.5\n",
    "        self.Dis_o = nn.Linear(hidden_size, output_size)\n",
    "\n",
    "    def forward(self, x):\n",
    "        x = F.elu(self.Dis_h1(x))\n",
    "        x = self.Dis_h1_dropout(x)\n",
    "        x = F.sigmoid(self.Dis_o(x))\n",
    "        return x"
   ]
  },
  {
   "cell_type": "code",
   "execution_count": 26,
   "metadata": {
    "collapsed": true
   },
   "outputs": [],
   "source": [
    "gnet = gNet(input_size = g_input_size, hidden_size = g_hidden_size, output_size = g_output_size)\n",
    "dnet = dNet(input_size = g_output_size, hidden_size = g_hidden_size, output_size = 1)\n",
    "z_sampler_pt = sample_Z_pytorch()\n"
   ]
  },
  {
   "cell_type": "markdown",
   "metadata": {},
   "source": [
    "**Loss function**\n",
    "\n",
    "- The loss function of a GAN is cross entropy\n",
    "- The true labels for the discriminator are the real images\n",
    "- The true labels for the discriminator are the fake images\n",
    "- We would like to minimize both the loss of the discriminator and the generator\n",
    "\n",
    "**Optimization**\n",
    "\n",
    "- We use Adam as our optimization method\n",
    "\n",
    "**Training**"
   ]
  },
  {
   "cell_type": "markdown",
   "metadata": {},
   "source": [
    "Tensorflow"
   ]
  },
  {
   "cell_type": "code",
   "execution_count": 27,
   "metadata": {
    "collapsed": false,
    "scrolled": false
   },
   "outputs": [],
   "source": [
    "with tf.variable_scope('Dis_loss'):\n",
    "    Dis_loss_real_tf = tf.reduce_mean(\n",
    "            tf.nn.sigmoid_cross_entropy_with_logits(\n",
    "                logits=Dis_real_logits_tf, labels=tf.ones_like(Dis_real_logits_tf)))\n",
    "    Dis_loss_fake_tf= tf.reduce_mean(\n",
    "            tf.nn.sigmoid_cross_entropy_with_logits(\n",
    "                logits=Dis_fake_logits_tf, labels=tf.zeros_like(Dis_fake_logits_tf)))\n",
    "    Dis_loss_tf = Dis_loss_real_tf + Dis_loss_fake_tf\n",
    "\n",
    "    tf.summary.scalar('Dis_loss_real', Dis_loss_real_tf)\n",
    "    tf.summary.scalar('Dis_loss_fake', Dis_loss_fake_tf)\n",
    "    tf.summary.scalar('Dis_Loss', Dis_loss_tf)\n",
    "\n",
    "with tf.name_scope('Gen_loss'):\n",
    "    Gen_loss_tf = tf.reduce_mean(tf.nn.sigmoid_cross_entropy_with_logits\n",
    "                                (logits=Dis_fake_logits_tf, labels=tf.ones_like(Dis_fake_logits_tf)))\n",
    "    tf.summary.scalar('Gen_Loss', Gen_loss_tf)"
   ]
  },
  {
   "cell_type": "markdown",
   "metadata": {},
   "source": [
    "- In TensorFlow we could specify the parameters to be trained by optimization\n",
    "- One way to specify the trainable paramters for the generator and the discriminator respectively is to use the method\n",
    "tf.trainable_variables(), through which you can get a string of trainable variables "
   ]
  },
  {
   "cell_type": "code",
   "execution_count": 28,
   "metadata": {
    "collapsed": false
   },
   "outputs": [
    {
     "name": "stdout",
     "output_type": "stream",
     "text": [
      "[<tf.Variable 'GAN/generator/Gen_W1:0' shape=(100, 128) dtype=float32_ref>\n",
      " <tf.Variable 'GAN/generator/Gen_B1:0' shape=(128,) dtype=float32_ref>\n",
      " <tf.Variable 'GAN/generator/Gen_W2:0' shape=(128, 784) dtype=float32_ref>\n",
      " <tf.Variable 'GAN/generator/Gen_B2:0' shape=(784,) dtype=float32_ref>\n",
      " <tf.Variable 'GAN/discriminator/Dis_W1:0' shape=(784, 128) dtype=float32_ref>\n",
      " <tf.Variable 'GAN/discriminator/Dis_B1:0' shape=(128,) dtype=float32_ref>\n",
      " <tf.Variable 'GAN/discriminator/Dis_W2:0' shape=(128, 1) dtype=float32_ref>\n",
      " <tf.Variable 'GAN/discriminator/Dis_B2:0' shape=(1,) dtype=float32_ref>]\n"
     ]
    }
   ],
   "source": [
    "train_var = tf.trainable_variables()\n",
    "print(np.array(train_var))\n",
    "theta_D = [var for var in train_var if 'discriminator' in var.name]\n",
    "theta_G = [var for var in train_var if 'generator' in var.name]"
   ]
  },
  {
   "cell_type": "code",
   "execution_count": 29,
   "metadata": {
    "collapsed": false
   },
   "outputs": [
    {
     "data": {
      "text/html": [
       "\n",
       "        <iframe seamless style=\"width:1200px;height:620px;border:0\" srcdoc=\"\n",
       "        <script src=&quot;//cdnjs.cloudflare.com/ajax/libs/polymer/0.3.3/platform.js&quot;></script>\n",
       "        <script>\n",
       "          function load() {\n",
       "            document.getElementById(&quot;graph0.17839727373798386&quot;).pbtxt = 'node {\\n  name: &quot;Placeholder/Placeholder&quot;\\n  op: &quot;Placeholder&quot;\\n  attr {\\n    key: &quot;dtype&quot;\\n    value {\\n      type: DT_FLOAT\\n    }\\n  }\\n  attr {\\n    key: &quot;shape&quot;\\n    value {\\n      shape {\\n      }\\n    }\\n  }\\n}\\nnode {\\n  name: &quot;Placeholder/Reshape/shape&quot;\\n  op: &quot;Const&quot;\\n  attr {\\n    key: &quot;dtype&quot;\\n    value {\\n      type: DT_INT32\\n    }\\n  }\\n  attr {\\n    key: &quot;value&quot;\\n    value {\\n      tensor {\\n        dtype: DT_INT32\\n        tensor_shape {\\n          dim {\\n            size: 4\\n          }\\n        }\\n        tensor_content: &quot;\\\\377\\\\377\\\\377\\\\377\\\\034\\\\000\\\\000\\\\000\\\\034\\\\000\\\\000\\\\000\\\\001\\\\000\\\\000\\\\000&quot;\\n      }\\n    }\\n  }\\n}\\nnode {\\n  name: &quot;Placeholder/Reshape&quot;\\n  op: &quot;Reshape&quot;\\n  input: &quot;Placeholder/Placeholder&quot;\\n  input: &quot;Placeholder/Reshape/shape&quot;\\n  attr {\\n    key: &quot;T&quot;\\n    value {\\n      type: DT_FLOAT\\n    }\\n  }\\n  attr {\\n    key: &quot;Tshape&quot;\\n    value {\\n      type: DT_INT32\\n    }\\n  }\\n}\\nnode {\\n  name: &quot;Placeholder/Raw_Image/tag&quot;\\n  op: &quot;Const&quot;\\n  attr {\\n    key: &quot;dtype&quot;\\n    value {\\n      type: DT_STRING\\n    }\\n  }\\n  attr {\\n    key: &quot;value&quot;\\n    value {\\n      tensor {\\n        dtype: DT_STRING\\n        tensor_shape {\\n        }\\n        string_val: &quot;Placeholder/Raw_Image&quot;\\n      }\\n    }\\n  }\\n}\\nnode {\\n  name: &quot;Placeholder/Raw_Image&quot;\\n  op: &quot;ImageSummary&quot;\\n  input: &quot;Placeholder/Raw_Image/tag&quot;\\n  input: &quot;Placeholder/Reshape&quot;\\n  attr {\\n    key: &quot;T&quot;\\n    value {\\n      type: DT_FLOAT\\n    }\\n  }\\n  attr {\\n    key: &quot;bad_color&quot;\\n    value {\\n      tensor {\\n        dtype: DT_UINT8\\n        tensor_shape {\\n          dim {\\n            size: 4\\n          }\\n        }\\n        int_val: 255\\n        int_val: 0\\n        int_val: 0\\n        int_val: 255\\n      }\\n    }\\n  }\\n  attr {\\n    key: &quot;max_images&quot;\\n    value {\\n      i: 3\\n    }\\n  }\\n}\\nnode {\\n  name: &quot;Placeholder/Placeholder_1&quot;\\n  op: &quot;Placeholder&quot;\\n  attr {\\n    key: &quot;dtype&quot;\\n    value {\\n      type: DT_FLOAT\\n    }\\n  }\\n  attr {\\n    key: &quot;shape&quot;\\n    value {\\n      shape {\\n      }\\n    }\\n  }\\n}\\nnode {\\n  name: &quot;Placeholder/Noise/tag&quot;\\n  op: &quot;Const&quot;\\n  attr {\\n    key: &quot;dtype&quot;\\n    value {\\n      type: DT_STRING\\n    }\\n  }\\n  attr {\\n    key: &quot;value&quot;\\n    value {\\n      tensor {\\n        dtype: DT_STRING\\n        tensor_shape {\\n        }\\n        string_val: &quot;Placeholder/Noise&quot;\\n      }\\n    }\\n  }\\n}\\nnode {\\n  name: &quot;Placeholder/Noise&quot;\\n  op: &quot;HistogramSummary&quot;\\n  input: &quot;Placeholder/Noise/tag&quot;\\n  input: &quot;Placeholder/Placeholder_1&quot;\\n  attr {\\n    key: &quot;T&quot;\\n    value {\\n      type: DT_FLOAT\\n    }\\n  }\\n}\\nnode {\\n  name: &quot;GAN/generator/Gen_W1/Initializer/random_uniform/shape&quot;\\n  op: &quot;Const&quot;\\n  attr {\\n    key: &quot;_class&quot;\\n    value {\\n      list {\\n        s: &quot;loc:@GAN/generator/Gen_W1&quot;\\n      }\\n    }\\n  }\\n  attr {\\n    key: &quot;dtype&quot;\\n    value {\\n      type: DT_INT32\\n    }\\n  }\\n  attr {\\n    key: &quot;value&quot;\\n    value {\\n      tensor {\\n        dtype: DT_INT32\\n        tensor_shape {\\n          dim {\\n            size: 2\\n          }\\n        }\\n        tensor_content: &quot;d\\\\000\\\\000\\\\000\\\\200\\\\000\\\\000\\\\000&quot;\\n      }\\n    }\\n  }\\n}\\nnode {\\n  name: &quot;GAN/generator/Gen_W1/Initializer/random_uniform/min&quot;\\n  op: &quot;Const&quot;\\n  attr {\\n    key: &quot;_class&quot;\\n    value {\\n      list {\\n        s: &quot;loc:@GAN/generator/Gen_W1&quot;\\n      }\\n    }\\n  }\\n  attr {\\n    key: &quot;dtype&quot;\\n    value {\\n      type: DT_FLOAT\\n    }\\n  }\\n  attr {\\n    key: &quot;value&quot;\\n    value {\\n      tensor {\\n        dtype: DT_FLOAT\\n        tensor_shape {\\n        }\\n        float_val: -0.16222141683101654\\n      }\\n    }\\n  }\\n}\\nnode {\\n  name: &quot;GAN/generator/Gen_W1/Initializer/random_uniform/max&quot;\\n  op: &quot;Const&quot;\\n  attr {\\n    key: &quot;_class&quot;\\n    value {\\n      list {\\n        s: &quot;loc:@GAN/generator/Gen_W1&quot;\\n      }\\n    }\\n  }\\n  attr {\\n    key: &quot;dtype&quot;\\n    value {\\n      type: DT_FLOAT\\n    }\\n  }\\n  attr {\\n    key: &quot;value&quot;\\n    value {\\n      tensor {\\n        dtype: DT_FLOAT\\n        tensor_shape {\\n        }\\n        float_val: 0.16222141683101654\\n      }\\n    }\\n  }\\n}\\nnode {\\n  name: &quot;GAN/generator/Gen_W1/Initializer/random_uniform/RandomUniform&quot;\\n  op: &quot;RandomUniform&quot;\\n  input: &quot;GAN/generator/Gen_W1/Initializer/random_uniform/shape&quot;\\n  attr {\\n    key: &quot;T&quot;\\n    value {\\n      type: DT_INT32\\n    }\\n  }\\n  attr {\\n    key: &quot;_class&quot;\\n    value {\\n      list {\\n        s: &quot;loc:@GAN/generator/Gen_W1&quot;\\n      }\\n    }\\n  }\\n  attr {\\n    key: &quot;dtype&quot;\\n    value {\\n      type: DT_FLOAT\\n    }\\n  }\\n  attr {\\n    key: &quot;seed&quot;\\n    value {\\n      i: 0\\n    }\\n  }\\n  attr {\\n    key: &quot;seed2&quot;\\n    value {\\n      i: 0\\n    }\\n  }\\n}\\nnode {\\n  name: &quot;GAN/generator/Gen_W1/Initializer/random_uniform/sub&quot;\\n  op: &quot;Sub&quot;\\n  input: &quot;GAN/generator/Gen_W1/Initializer/random_uniform/max&quot;\\n  input: &quot;GAN/generator/Gen_W1/Initializer/random_uniform/min&quot;\\n  attr {\\n    key: &quot;T&quot;\\n    value {\\n      type: DT_FLOAT\\n    }\\n  }\\n  attr {\\n    key: &quot;_class&quot;\\n    value {\\n      list {\\n        s: &quot;loc:@GAN/generator/Gen_W1&quot;\\n      }\\n    }\\n  }\\n}\\nnode {\\n  name: &quot;GAN/generator/Gen_W1/Initializer/random_uniform/mul&quot;\\n  op: &quot;Mul&quot;\\n  input: &quot;GAN/generator/Gen_W1/Initializer/random_uniform/RandomUniform&quot;\\n  input: &quot;GAN/generator/Gen_W1/Initializer/random_uniform/sub&quot;\\n  attr {\\n    key: &quot;T&quot;\\n    value {\\n      type: DT_FLOAT\\n    }\\n  }\\n  attr {\\n    key: &quot;_class&quot;\\n    value {\\n      list {\\n        s: &quot;loc:@GAN/generator/Gen_W1&quot;\\n      }\\n    }\\n  }\\n}\\nnode {\\n  name: &quot;GAN/generator/Gen_W1/Initializer/random_uniform&quot;\\n  op: &quot;Add&quot;\\n  input: &quot;GAN/generator/Gen_W1/Initializer/random_uniform/mul&quot;\\n  input: &quot;GAN/generator/Gen_W1/Initializer/random_uniform/min&quot;\\n  attr {\\n    key: &quot;T&quot;\\n    value {\\n      type: DT_FLOAT\\n    }\\n  }\\n  attr {\\n    key: &quot;_class&quot;\\n    value {\\n      list {\\n        s: &quot;loc:@GAN/generator/Gen_W1&quot;\\n      }\\n    }\\n  }\\n}\\nnode {\\n  name: &quot;GAN/generator/Gen_W1&quot;\\n  op: &quot;VariableV2&quot;\\n  attr {\\n    key: &quot;_class&quot;\\n    value {\\n      list {\\n        s: &quot;loc:@GAN/generator/Gen_W1&quot;\\n      }\\n    }\\n  }\\n  attr {\\n    key: &quot;container&quot;\\n    value {\\n      s: &quot;&quot;\\n    }\\n  }\\n  attr {\\n    key: &quot;dtype&quot;\\n    value {\\n      type: DT_FLOAT\\n    }\\n  }\\n  attr {\\n    key: &quot;shape&quot;\\n    value {\\n      shape {\\n        dim {\\n          size: 100\\n        }\\n        dim {\\n          size: 128\\n        }\\n      }\\n    }\\n  }\\n  attr {\\n    key: &quot;shared_name&quot;\\n    value {\\n      s: &quot;&quot;\\n    }\\n  }\\n}\\nnode {\\n  name: &quot;GAN/generator/Gen_W1/Assign&quot;\\n  op: &quot;Assign&quot;\\n  input: &quot;GAN/generator/Gen_W1&quot;\\n  input: &quot;GAN/generator/Gen_W1/Initializer/random_uniform&quot;\\n  attr {\\n    key: &quot;T&quot;\\n    value {\\n      type: DT_FLOAT\\n    }\\n  }\\n  attr {\\n    key: &quot;_class&quot;\\n    value {\\n      list {\\n        s: &quot;loc:@GAN/generator/Gen_W1&quot;\\n      }\\n    }\\n  }\\n  attr {\\n    key: &quot;use_locking&quot;\\n    value {\\n      b: true\\n    }\\n  }\\n  attr {\\n    key: &quot;validate_shape&quot;\\n    value {\\n      b: true\\n    }\\n  }\\n}\\nnode {\\n  name: &quot;GAN/generator/Gen_W1/read&quot;\\n  op: &quot;Identity&quot;\\n  input: &quot;GAN/generator/Gen_W1&quot;\\n  attr {\\n    key: &quot;T&quot;\\n    value {\\n      type: DT_FLOAT\\n    }\\n  }\\n  attr {\\n    key: &quot;_class&quot;\\n    value {\\n      list {\\n        s: &quot;loc:@GAN/generator/Gen_W1&quot;\\n      }\\n    }\\n  }\\n}\\nnode {\\n  name: &quot;GAN/generator/Gen_B1/Initializer/Const&quot;\\n  op: &quot;Const&quot;\\n  attr {\\n    key: &quot;_class&quot;\\n    value {\\n      list {\\n        s: &quot;loc:@GAN/generator/Gen_B1&quot;\\n      }\\n    }\\n  }\\n  attr {\\n    key: &quot;dtype&quot;\\n    value {\\n      type: DT_FLOAT\\n    }\\n  }\\n  attr {\\n    key: &quot;value&quot;\\n    value {\\n      tensor {\\n        dtype: DT_FLOAT\\n        tensor_shape {\\n          dim {\\n            size: 128\\n          }\\n        }\\n        float_val: 0.0\\n      }\\n    }\\n  }\\n}\\nnode {\\n  name: &quot;GAN/generator/Gen_B1&quot;\\n  op: &quot;VariableV2&quot;\\n  attr {\\n    key: &quot;_class&quot;\\n    value {\\n      list {\\n        s: &quot;loc:@GAN/generator/Gen_B1&quot;\\n      }\\n    }\\n  }\\n  attr {\\n    key: &quot;container&quot;\\n    value {\\n      s: &quot;&quot;\\n    }\\n  }\\n  attr {\\n    key: &quot;dtype&quot;\\n    value {\\n      type: DT_FLOAT\\n    }\\n  }\\n  attr {\\n    key: &quot;shape&quot;\\n    value {\\n      shape {\\n        dim {\\n          size: 128\\n        }\\n      }\\n    }\\n  }\\n  attr {\\n    key: &quot;shared_name&quot;\\n    value {\\n      s: &quot;&quot;\\n    }\\n  }\\n}\\nnode {\\n  name: &quot;GAN/generator/Gen_B1/Assign&quot;\\n  op: &quot;Assign&quot;\\n  input: &quot;GAN/generator/Gen_B1&quot;\\n  input: &quot;GAN/generator/Gen_B1/Initializer/Const&quot;\\n  attr {\\n    key: &quot;T&quot;\\n    value {\\n      type: DT_FLOAT\\n    }\\n  }\\n  attr {\\n    key: &quot;_class&quot;\\n    value {\\n      list {\\n        s: &quot;loc:@GAN/generator/Gen_B1&quot;\\n      }\\n    }\\n  }\\n  attr {\\n    key: &quot;use_locking&quot;\\n    value {\\n      b: true\\n    }\\n  }\\n  attr {\\n    key: &quot;validate_shape&quot;\\n    value {\\n      b: true\\n    }\\n  }\\n}\\nnode {\\n  name: &quot;GAN/generator/Gen_B1/read&quot;\\n  op: &quot;Identity&quot;\\n  input: &quot;GAN/generator/Gen_B1&quot;\\n  attr {\\n    key: &quot;T&quot;\\n    value {\\n      type: DT_FLOAT\\n    }\\n  }\\n  attr {\\n    key: &quot;_class&quot;\\n    value {\\n      list {\\n        s: &quot;loc:@GAN/generator/Gen_B1&quot;\\n      }\\n    }\\n  }\\n}\\nnode {\\n  name: &quot;GAN/generator/Gen_W2/Initializer/random_uniform/shape&quot;\\n  op: &quot;Const&quot;\\n  attr {\\n    key: &quot;_class&quot;\\n    value {\\n      list {\\n        s: &quot;loc:@GAN/generator/Gen_W2&quot;\\n      }\\n    }\\n  }\\n  attr {\\n    key: &quot;dtype&quot;\\n    value {\\n      type: DT_INT32\\n    }\\n  }\\n  attr {\\n    key: &quot;value&quot;\\n    value {\\n      tensor {\\n        dtype: DT_INT32\\n        tensor_shape {\\n          dim {\\n            size: 2\\n          }\\n        }\\n        tensor_content: &quot;\\\\200\\\\000\\\\000\\\\000\\\\020\\\\003\\\\000\\\\000&quot;\\n      }\\n    }\\n  }\\n}\\nnode {\\n  name: &quot;GAN/generator/Gen_W2/Initializer/random_uniform/min&quot;\\n  op: &quot;Const&quot;\\n  attr {\\n    key: &quot;_class&quot;\\n    value {\\n      list {\\n        s: &quot;loc:@GAN/generator/Gen_W2&quot;\\n      }\\n    }\\n  }\\n  attr {\\n    key: &quot;dtype&quot;\\n    value {\\n      type: DT_FLOAT\\n    }\\n  }\\n  attr {\\n    key: &quot;value&quot;\\n    value {\\n      tensor {\\n        dtype: DT_FLOAT\\n        tensor_shape {\\n        }\\n        float_val: -0.08111070841550827\\n      }\\n    }\\n  }\\n}\\nnode {\\n  name: &quot;GAN/generator/Gen_W2/Initializer/random_uniform/max&quot;\\n  op: &quot;Const&quot;\\n  attr {\\n    key: &quot;_class&quot;\\n    value {\\n      list {\\n        s: &quot;loc:@GAN/generator/Gen_W2&quot;\\n      }\\n    }\\n  }\\n  attr {\\n    key: &quot;dtype&quot;\\n    value {\\n      type: DT_FLOAT\\n    }\\n  }\\n  attr {\\n    key: &quot;value&quot;\\n    value {\\n      tensor {\\n        dtype: DT_FLOAT\\n        tensor_shape {\\n        }\\n        float_val: 0.08111070841550827\\n      }\\n    }\\n  }\\n}\\nnode {\\n  name: &quot;GAN/generator/Gen_W2/Initializer/random_uniform/RandomUniform&quot;\\n  op: &quot;RandomUniform&quot;\\n  input: &quot;GAN/generator/Gen_W2/Initializer/random_uniform/shape&quot;\\n  attr {\\n    key: &quot;T&quot;\\n    value {\\n      type: DT_INT32\\n    }\\n  }\\n  attr {\\n    key: &quot;_class&quot;\\n    value {\\n      list {\\n        s: &quot;loc:@GAN/generator/Gen_W2&quot;\\n      }\\n    }\\n  }\\n  attr {\\n    key: &quot;dtype&quot;\\n    value {\\n      type: DT_FLOAT\\n    }\\n  }\\n  attr {\\n    key: &quot;seed&quot;\\n    value {\\n      i: 0\\n    }\\n  }\\n  attr {\\n    key: &quot;seed2&quot;\\n    value {\\n      i: 0\\n    }\\n  }\\n}\\nnode {\\n  name: &quot;GAN/generator/Gen_W2/Initializer/random_uniform/sub&quot;\\n  op: &quot;Sub&quot;\\n  input: &quot;GAN/generator/Gen_W2/Initializer/random_uniform/max&quot;\\n  input: &quot;GAN/generator/Gen_W2/Initializer/random_uniform/min&quot;\\n  attr {\\n    key: &quot;T&quot;\\n    value {\\n      type: DT_FLOAT\\n    }\\n  }\\n  attr {\\n    key: &quot;_class&quot;\\n    value {\\n      list {\\n        s: &quot;loc:@GAN/generator/Gen_W2&quot;\\n      }\\n    }\\n  }\\n}\\nnode {\\n  name: &quot;GAN/generator/Gen_W2/Initializer/random_uniform/mul&quot;\\n  op: &quot;Mul&quot;\\n  input: &quot;GAN/generator/Gen_W2/Initializer/random_uniform/RandomUniform&quot;\\n  input: &quot;GAN/generator/Gen_W2/Initializer/random_uniform/sub&quot;\\n  attr {\\n    key: &quot;T&quot;\\n    value {\\n      type: DT_FLOAT\\n    }\\n  }\\n  attr {\\n    key: &quot;_class&quot;\\n    value {\\n      list {\\n        s: &quot;loc:@GAN/generator/Gen_W2&quot;\\n      }\\n    }\\n  }\\n}\\nnode {\\n  name: &quot;GAN/generator/Gen_W2/Initializer/random_uniform&quot;\\n  op: &quot;Add&quot;\\n  input: &quot;GAN/generator/Gen_W2/Initializer/random_uniform/mul&quot;\\n  input: &quot;GAN/generator/Gen_W2/Initializer/random_uniform/min&quot;\\n  attr {\\n    key: &quot;T&quot;\\n    value {\\n      type: DT_FLOAT\\n    }\\n  }\\n  attr {\\n    key: &quot;_class&quot;\\n    value {\\n      list {\\n        s: &quot;loc:@GAN/generator/Gen_W2&quot;\\n      }\\n    }\\n  }\\n}\\nnode {\\n  name: &quot;GAN/generator/Gen_W2&quot;\\n  op: &quot;VariableV2&quot;\\n  attr {\\n    key: &quot;_class&quot;\\n    value {\\n      list {\\n        s: &quot;loc:@GAN/generator/Gen_W2&quot;\\n      }\\n    }\\n  }\\n  attr {\\n    key: &quot;container&quot;\\n    value {\\n      s: &quot;&quot;\\n    }\\n  }\\n  attr {\\n    key: &quot;dtype&quot;\\n    value {\\n      type: DT_FLOAT\\n    }\\n  }\\n  attr {\\n    key: &quot;shape&quot;\\n    value {\\n      shape {\\n        dim {\\n          size: 128\\n        }\\n        dim {\\n          size: 784\\n        }\\n      }\\n    }\\n  }\\n  attr {\\n    key: &quot;shared_name&quot;\\n    value {\\n      s: &quot;&quot;\\n    }\\n  }\\n}\\nnode {\\n  name: &quot;GAN/generator/Gen_W2/Assign&quot;\\n  op: &quot;Assign&quot;\\n  input: &quot;GAN/generator/Gen_W2&quot;\\n  input: &quot;GAN/generator/Gen_W2/Initializer/random_uniform&quot;\\n  attr {\\n    key: &quot;T&quot;\\n    value {\\n      type: DT_FLOAT\\n    }\\n  }\\n  attr {\\n    key: &quot;_class&quot;\\n    value {\\n      list {\\n        s: &quot;loc:@GAN/generator/Gen_W2&quot;\\n      }\\n    }\\n  }\\n  attr {\\n    key: &quot;use_locking&quot;\\n    value {\\n      b: true\\n    }\\n  }\\n  attr {\\n    key: &quot;validate_shape&quot;\\n    value {\\n      b: true\\n    }\\n  }\\n}\\nnode {\\n  name: &quot;GAN/generator/Gen_W2/read&quot;\\n  op: &quot;Identity&quot;\\n  input: &quot;GAN/generator/Gen_W2&quot;\\n  attr {\\n    key: &quot;T&quot;\\n    value {\\n      type: DT_FLOAT\\n    }\\n  }\\n  attr {\\n    key: &quot;_class&quot;\\n    value {\\n      list {\\n        s: &quot;loc:@GAN/generator/Gen_W2&quot;\\n      }\\n    }\\n  }\\n}\\nnode {\\n  name: &quot;GAN/generator/Gen_B2/Initializer/Const&quot;\\n  op: &quot;Const&quot;\\n  attr {\\n    key: &quot;_class&quot;\\n    value {\\n      list {\\n        s: &quot;loc:@GAN/generator/Gen_B2&quot;\\n      }\\n    }\\n  }\\n  attr {\\n    key: &quot;dtype&quot;\\n    value {\\n      type: DT_FLOAT\\n    }\\n  }\\n  attr {\\n    key: &quot;value&quot;\\n    value {\\n      tensor {\\n        dtype: DT_FLOAT\\n        tensor_shape {\\n          dim {\\n            size: 784\\n          }\\n        }\\n        float_val: 0.0\\n      }\\n    }\\n  }\\n}\\nnode {\\n  name: &quot;GAN/generator/Gen_B2&quot;\\n  op: &quot;VariableV2&quot;\\n  attr {\\n    key: &quot;_class&quot;\\n    value {\\n      list {\\n        s: &quot;loc:@GAN/generator/Gen_B2&quot;\\n      }\\n    }\\n  }\\n  attr {\\n    key: &quot;container&quot;\\n    value {\\n      s: &quot;&quot;\\n    }\\n  }\\n  attr {\\n    key: &quot;dtype&quot;\\n    value {\\n      type: DT_FLOAT\\n    }\\n  }\\n  attr {\\n    key: &quot;shape&quot;\\n    value {\\n      shape {\\n        dim {\\n          size: 784\\n        }\\n      }\\n    }\\n  }\\n  attr {\\n    key: &quot;shared_name&quot;\\n    value {\\n      s: &quot;&quot;\\n    }\\n  }\\n}\\nnode {\\n  name: &quot;GAN/generator/Gen_B2/Assign&quot;\\n  op: &quot;Assign&quot;\\n  input: &quot;GAN/generator/Gen_B2&quot;\\n  input: &quot;GAN/generator/Gen_B2/Initializer/Const&quot;\\n  attr {\\n    key: &quot;T&quot;\\n    value {\\n      type: DT_FLOAT\\n    }\\n  }\\n  attr {\\n    key: &quot;_class&quot;\\n    value {\\n      list {\\n        s: &quot;loc:@GAN/generator/Gen_B2&quot;\\n      }\\n    }\\n  }\\n  attr {\\n    key: &quot;use_locking&quot;\\n    value {\\n      b: true\\n    }\\n  }\\n  attr {\\n    key: &quot;validate_shape&quot;\\n    value {\\n      b: true\\n    }\\n  }\\n}\\nnode {\\n  name: &quot;GAN/generator/Gen_B2/read&quot;\\n  op: &quot;Identity&quot;\\n  input: &quot;GAN/generator/Gen_B2&quot;\\n  attr {\\n    key: &quot;T&quot;\\n    value {\\n      type: DT_FLOAT\\n    }\\n  }\\n  attr {\\n    key: &quot;_class&quot;\\n    value {\\n      list {\\n        s: &quot;loc:@GAN/generator/Gen_B2&quot;\\n      }\\n    }\\n  }\\n}\\nnode {\\n  name: &quot;GAN/generator/weight1/tag&quot;\\n  op: &quot;Const&quot;\\n  attr {\\n    key: &quot;dtype&quot;\\n    value {\\n      type: DT_STRING\\n    }\\n  }\\n  attr {\\n    key: &quot;value&quot;\\n    value {\\n      tensor {\\n        dtype: DT_STRING\\n        tensor_shape {\\n        }\\n        string_val: &quot;GAN/generator/weight1&quot;\\n      }\\n    }\\n  }\\n}\\nnode {\\n  name: &quot;GAN/generator/weight1&quot;\\n  op: &quot;HistogramSummary&quot;\\n  input: &quot;GAN/generator/weight1/tag&quot;\\n  input: &quot;GAN/generator/Gen_W1/read&quot;\\n  attr {\\n    key: &quot;T&quot;\\n    value {\\n      type: DT_FLOAT\\n    }\\n  }\\n}\\nnode {\\n  name: &quot;GAN/generator/weight2/tag&quot;\\n  op: &quot;Const&quot;\\n  attr {\\n    key: &quot;dtype&quot;\\n    value {\\n      type: DT_STRING\\n    }\\n  }\\n  attr {\\n    key: &quot;value&quot;\\n    value {\\n      tensor {\\n        dtype: DT_STRING\\n        tensor_shape {\\n        }\\n        string_val: &quot;GAN/generator/weight2&quot;\\n      }\\n    }\\n  }\\n}\\nnode {\\n  name: &quot;GAN/generator/weight2&quot;\\n  op: &quot;HistogramSummary&quot;\\n  input: &quot;GAN/generator/weight2/tag&quot;\\n  input: &quot;GAN/generator/Gen_W2/read&quot;\\n  attr {\\n    key: &quot;T&quot;\\n    value {\\n      type: DT_FLOAT\\n    }\\n  }\\n}\\nnode {\\n  name: &quot;GAN/generator/biases1/tag&quot;\\n  op: &quot;Const&quot;\\n  attr {\\n    key: &quot;dtype&quot;\\n    value {\\n      type: DT_STRING\\n    }\\n  }\\n  attr {\\n    key: &quot;value&quot;\\n    value {\\n      tensor {\\n        dtype: DT_STRING\\n        tensor_shape {\\n        }\\n        string_val: &quot;GAN/generator/biases1&quot;\\n      }\\n    }\\n  }\\n}\\nnode {\\n  name: &quot;GAN/generator/biases1&quot;\\n  op: &quot;HistogramSummary&quot;\\n  input: &quot;GAN/generator/biases1/tag&quot;\\n  input: &quot;GAN/generator/Gen_B1/read&quot;\\n  attr {\\n    key: &quot;T&quot;\\n    value {\\n      type: DT_FLOAT\\n    }\\n  }\\n}\\nnode {\\n  name: &quot;GAN/generator/biases2/tag&quot;\\n  op: &quot;Const&quot;\\n  attr {\\n    key: &quot;dtype&quot;\\n    value {\\n      type: DT_STRING\\n    }\\n  }\\n  attr {\\n    key: &quot;value&quot;\\n    value {\\n      tensor {\\n        dtype: DT_STRING\\n        tensor_shape {\\n        }\\n        string_val: &quot;GAN/generator/biases2&quot;\\n      }\\n    }\\n  }\\n}\\nnode {\\n  name: &quot;GAN/generator/biases2&quot;\\n  op: &quot;HistogramSummary&quot;\\n  input: &quot;GAN/generator/biases2/tag&quot;\\n  input: &quot;GAN/generator/Gen_B2/read&quot;\\n  attr {\\n    key: &quot;T&quot;\\n    value {\\n      type: DT_FLOAT\\n    }\\n  }\\n}\\nnode {\\n  name: &quot;GAN/generator/MatMul&quot;\\n  op: &quot;MatMul&quot;\\n  input: &quot;Placeholder/Placeholder_1&quot;\\n  input: &quot;GAN/generator/Gen_W1/read&quot;\\n  attr {\\n    key: &quot;T&quot;\\n    value {\\n      type: DT_FLOAT\\n    }\\n  }\\n  attr {\\n    key: &quot;transpose_a&quot;\\n    value {\\n      b: false\\n    }\\n  }\\n  attr {\\n    key: &quot;transpose_b&quot;\\n    value {\\n      b: false\\n    }\\n  }\\n}\\nnode {\\n  name: &quot;GAN/generator/add&quot;\\n  op: &quot;Add&quot;\\n  input: &quot;GAN/generator/MatMul&quot;\\n  input: &quot;GAN/generator/Gen_B1/read&quot;\\n  attr {\\n    key: &quot;T&quot;\\n    value {\\n      type: DT_FLOAT\\n    }\\n  }\\n}\\nnode {\\n  name: &quot;GAN/generator/Elu&quot;\\n  op: &quot;Elu&quot;\\n  input: &quot;GAN/generator/add&quot;\\n  attr {\\n    key: &quot;T&quot;\\n    value {\\n      type: DT_FLOAT\\n    }\\n  }\\n}\\nnode {\\n  name: &quot;GAN/generator/MatMul_1&quot;\\n  op: &quot;MatMul&quot;\\n  input: &quot;GAN/generator/Elu&quot;\\n  input: &quot;GAN/generator/Gen_W2/read&quot;\\n  attr {\\n    key: &quot;T&quot;\\n    value {\\n      type: DT_FLOAT\\n    }\\n  }\\n  attr {\\n    key: &quot;transpose_a&quot;\\n    value {\\n      b: false\\n    }\\n  }\\n  attr {\\n    key: &quot;transpose_b&quot;\\n    value {\\n      b: false\\n    }\\n  }\\n}\\nnode {\\n  name: &quot;GAN/generator/add_1&quot;\\n  op: &quot;Add&quot;\\n  input: &quot;GAN/generator/MatMul_1&quot;\\n  input: &quot;GAN/generator/Gen_B2/read&quot;\\n  attr {\\n    key: &quot;T&quot;\\n    value {\\n      type: DT_FLOAT\\n    }\\n  }\\n}\\nnode {\\n  name: &quot;GAN/generator/Sigmoid&quot;\\n  op: &quot;Sigmoid&quot;\\n  input: &quot;GAN/generator/add_1&quot;\\n  attr {\\n    key: &quot;T&quot;\\n    value {\\n      type: DT_FLOAT\\n    }\\n  }\\n}\\nnode {\\n  name: &quot;GAN/discriminator/Dis_W1/Initializer/random_uniform/shape&quot;\\n  op: &quot;Const&quot;\\n  attr {\\n    key: &quot;_class&quot;\\n    value {\\n      list {\\n        s: &quot;loc:@GAN/discriminator/Dis_W1&quot;\\n      }\\n    }\\n  }\\n  attr {\\n    key: &quot;dtype&quot;\\n    value {\\n      type: DT_INT32\\n    }\\n  }\\n  attr {\\n    key: &quot;value&quot;\\n    value {\\n      tensor {\\n        dtype: DT_INT32\\n        tensor_shape {\\n          dim {\\n            size: 2\\n          }\\n        }\\n        tensor_content: &quot;\\\\020\\\\003\\\\000\\\\000\\\\200\\\\000\\\\000\\\\000&quot;\\n      }\\n    }\\n  }\\n}\\nnode {\\n  name: &quot;GAN/discriminator/Dis_W1/Initializer/random_uniform/min&quot;\\n  op: &quot;Const&quot;\\n  attr {\\n    key: &quot;_class&quot;\\n    value {\\n      list {\\n        s: &quot;loc:@GAN/discriminator/Dis_W1&quot;\\n      }\\n    }\\n  }\\n  attr {\\n    key: &quot;dtype&quot;\\n    value {\\n      type: DT_FLOAT\\n    }\\n  }\\n  attr {\\n    key: &quot;value&quot;\\n    value {\\n      tensor {\\n        dtype: DT_FLOAT\\n        tensor_shape {\\n        }\\n        float_val: -0.08111070841550827\\n      }\\n    }\\n  }\\n}\\nnode {\\n  name: &quot;GAN/discriminator/Dis_W1/Initializer/random_uniform/max&quot;\\n  op: &quot;Const&quot;\\n  attr {\\n    key: &quot;_class&quot;\\n    value {\\n      list {\\n        s: &quot;loc:@GAN/discriminator/Dis_W1&quot;\\n      }\\n    }\\n  }\\n  attr {\\n    key: &quot;dtype&quot;\\n    value {\\n      type: DT_FLOAT\\n    }\\n  }\\n  attr {\\n    key: &quot;value&quot;\\n    value {\\n      tensor {\\n        dtype: DT_FLOAT\\n        tensor_shape {\\n        }\\n        float_val: 0.08111070841550827\\n      }\\n    }\\n  }\\n}\\nnode {\\n  name: &quot;GAN/discriminator/Dis_W1/Initializer/random_uniform/RandomUniform&quot;\\n  op: &quot;RandomUniform&quot;\\n  input: &quot;GAN/discriminator/Dis_W1/Initializer/random_uniform/shape&quot;\\n  attr {\\n    key: &quot;T&quot;\\n    value {\\n      type: DT_INT32\\n    }\\n  }\\n  attr {\\n    key: &quot;_class&quot;\\n    value {\\n      list {\\n        s: &quot;loc:@GAN/discriminator/Dis_W1&quot;\\n      }\\n    }\\n  }\\n  attr {\\n    key: &quot;dtype&quot;\\n    value {\\n      type: DT_FLOAT\\n    }\\n  }\\n  attr {\\n    key: &quot;seed&quot;\\n    value {\\n      i: 0\\n    }\\n  }\\n  attr {\\n    key: &quot;seed2&quot;\\n    value {\\n      i: 0\\n    }\\n  }\\n}\\nnode {\\n  name: &quot;GAN/discriminator/Dis_W1/Initializer/random_uniform/sub&quot;\\n  op: &quot;Sub&quot;\\n  input: &quot;GAN/discriminator/Dis_W1/Initializer/random_uniform/max&quot;\\n  input: &quot;GAN/discriminator/Dis_W1/Initializer/random_uniform/min&quot;\\n  attr {\\n    key: &quot;T&quot;\\n    value {\\n      type: DT_FLOAT\\n    }\\n  }\\n  attr {\\n    key: &quot;_class&quot;\\n    value {\\n      list {\\n        s: &quot;loc:@GAN/discriminator/Dis_W1&quot;\\n      }\\n    }\\n  }\\n}\\nnode {\\n  name: &quot;GAN/discriminator/Dis_W1/Initializer/random_uniform/mul&quot;\\n  op: &quot;Mul&quot;\\n  input: &quot;GAN/discriminator/Dis_W1/Initializer/random_uniform/RandomUniform&quot;\\n  input: &quot;GAN/discriminator/Dis_W1/Initializer/random_uniform/sub&quot;\\n  attr {\\n    key: &quot;T&quot;\\n    value {\\n      type: DT_FLOAT\\n    }\\n  }\\n  attr {\\n    key: &quot;_class&quot;\\n    value {\\n      list {\\n        s: &quot;loc:@GAN/discriminator/Dis_W1&quot;\\n      }\\n    }\\n  }\\n}\\nnode {\\n  name: &quot;GAN/discriminator/Dis_W1/Initializer/random_uniform&quot;\\n  op: &quot;Add&quot;\\n  input: &quot;GAN/discriminator/Dis_W1/Initializer/random_uniform/mul&quot;\\n  input: &quot;GAN/discriminator/Dis_W1/Initializer/random_uniform/min&quot;\\n  attr {\\n    key: &quot;T&quot;\\n    value {\\n      type: DT_FLOAT\\n    }\\n  }\\n  attr {\\n    key: &quot;_class&quot;\\n    value {\\n      list {\\n        s: &quot;loc:@GAN/discriminator/Dis_W1&quot;\\n      }\\n    }\\n  }\\n}\\nnode {\\n  name: &quot;GAN/discriminator/Dis_W1&quot;\\n  op: &quot;VariableV2&quot;\\n  attr {\\n    key: &quot;_class&quot;\\n    value {\\n      list {\\n        s: &quot;loc:@GAN/discriminator/Dis_W1&quot;\\n      }\\n    }\\n  }\\n  attr {\\n    key: &quot;container&quot;\\n    value {\\n      s: &quot;&quot;\\n    }\\n  }\\n  attr {\\n    key: &quot;dtype&quot;\\n    value {\\n      type: DT_FLOAT\\n    }\\n  }\\n  attr {\\n    key: &quot;shape&quot;\\n    value {\\n      shape {\\n        dim {\\n          size: 784\\n        }\\n        dim {\\n          size: 128\\n        }\\n      }\\n    }\\n  }\\n  attr {\\n    key: &quot;shared_name&quot;\\n    value {\\n      s: &quot;&quot;\\n    }\\n  }\\n}\\nnode {\\n  name: &quot;GAN/discriminator/Dis_W1/Assign&quot;\\n  op: &quot;Assign&quot;\\n  input: &quot;GAN/discriminator/Dis_W1&quot;\\n  input: &quot;GAN/discriminator/Dis_W1/Initializer/random_uniform&quot;\\n  attr {\\n    key: &quot;T&quot;\\n    value {\\n      type: DT_FLOAT\\n    }\\n  }\\n  attr {\\n    key: &quot;_class&quot;\\n    value {\\n      list {\\n        s: &quot;loc:@GAN/discriminator/Dis_W1&quot;\\n      }\\n    }\\n  }\\n  attr {\\n    key: &quot;use_locking&quot;\\n    value {\\n      b: true\\n    }\\n  }\\n  attr {\\n    key: &quot;validate_shape&quot;\\n    value {\\n      b: true\\n    }\\n  }\\n}\\nnode {\\n  name: &quot;GAN/discriminator/Dis_W1/read&quot;\\n  op: &quot;Identity&quot;\\n  input: &quot;GAN/discriminator/Dis_W1&quot;\\n  attr {\\n    key: &quot;T&quot;\\n    value {\\n      type: DT_FLOAT\\n    }\\n  }\\n  attr {\\n    key: &quot;_class&quot;\\n    value {\\n      list {\\n        s: &quot;loc:@GAN/discriminator/Dis_W1&quot;\\n      }\\n    }\\n  }\\n}\\nnode {\\n  name: &quot;GAN/discriminator/Dis_B1/Initializer/Const&quot;\\n  op: &quot;Const&quot;\\n  attr {\\n    key: &quot;_class&quot;\\n    value {\\n      list {\\n        s: &quot;loc:@GAN/discriminator/Dis_B1&quot;\\n      }\\n    }\\n  }\\n  attr {\\n    key: &quot;dtype&quot;\\n    value {\\n      type: DT_FLOAT\\n    }\\n  }\\n  attr {\\n    key: &quot;value&quot;\\n    value {\\n      tensor {\\n        dtype: DT_FLOAT\\n        tensor_shape {\\n          dim {\\n            size: 128\\n          }\\n        }\\n        float_val: 0.0\\n      }\\n    }\\n  }\\n}\\nnode {\\n  name: &quot;GAN/discriminator/Dis_B1&quot;\\n  op: &quot;VariableV2&quot;\\n  attr {\\n    key: &quot;_class&quot;\\n    value {\\n      list {\\n        s: &quot;loc:@GAN/discriminator/Dis_B1&quot;\\n      }\\n    }\\n  }\\n  attr {\\n    key: &quot;container&quot;\\n    value {\\n      s: &quot;&quot;\\n    }\\n  }\\n  attr {\\n    key: &quot;dtype&quot;\\n    value {\\n      type: DT_FLOAT\\n    }\\n  }\\n  attr {\\n    key: &quot;shape&quot;\\n    value {\\n      shape {\\n        dim {\\n          size: 128\\n        }\\n      }\\n    }\\n  }\\n  attr {\\n    key: &quot;shared_name&quot;\\n    value {\\n      s: &quot;&quot;\\n    }\\n  }\\n}\\nnode {\\n  name: &quot;GAN/discriminator/Dis_B1/Assign&quot;\\n  op: &quot;Assign&quot;\\n  input: &quot;GAN/discriminator/Dis_B1&quot;\\n  input: &quot;GAN/discriminator/Dis_B1/Initializer/Const&quot;\\n  attr {\\n    key: &quot;T&quot;\\n    value {\\n      type: DT_FLOAT\\n    }\\n  }\\n  attr {\\n    key: &quot;_class&quot;\\n    value {\\n      list {\\n        s: &quot;loc:@GAN/discriminator/Dis_B1&quot;\\n      }\\n    }\\n  }\\n  attr {\\n    key: &quot;use_locking&quot;\\n    value {\\n      b: true\\n    }\\n  }\\n  attr {\\n    key: &quot;validate_shape&quot;\\n    value {\\n      b: true\\n    }\\n  }\\n}\\nnode {\\n  name: &quot;GAN/discriminator/Dis_B1/read&quot;\\n  op: &quot;Identity&quot;\\n  input: &quot;GAN/discriminator/Dis_B1&quot;\\n  attr {\\n    key: &quot;T&quot;\\n    value {\\n      type: DT_FLOAT\\n    }\\n  }\\n  attr {\\n    key: &quot;_class&quot;\\n    value {\\n      list {\\n        s: &quot;loc:@GAN/discriminator/Dis_B1&quot;\\n      }\\n    }\\n  }\\n}\\nnode {\\n  name: &quot;GAN/discriminator/Dis_W2/Initializer/random_uniform/shape&quot;\\n  op: &quot;Const&quot;\\n  attr {\\n    key: &quot;_class&quot;\\n    value {\\n      list {\\n        s: &quot;loc:@GAN/discriminator/Dis_W2&quot;\\n      }\\n    }\\n  }\\n  attr {\\n    key: &quot;dtype&quot;\\n    value {\\n      type: DT_INT32\\n    }\\n  }\\n  attr {\\n    key: &quot;value&quot;\\n    value {\\n      tensor {\\n        dtype: DT_INT32\\n        tensor_shape {\\n          dim {\\n            size: 2\\n          }\\n        }\\n        tensor_content: &quot;\\\\200\\\\000\\\\000\\\\000\\\\001\\\\000\\\\000\\\\000&quot;\\n      }\\n    }\\n  }\\n}\\nnode {\\n  name: &quot;GAN/discriminator/Dis_W2/Initializer/random_uniform/min&quot;\\n  op: &quot;Const&quot;\\n  attr {\\n    key: &quot;_class&quot;\\n    value {\\n      list {\\n        s: &quot;loc:@GAN/discriminator/Dis_W2&quot;\\n      }\\n    }\\n  }\\n  attr {\\n    key: &quot;dtype&quot;\\n    value {\\n      type: DT_FLOAT\\n    }\\n  }\\n  attr {\\n    key: &quot;value&quot;\\n    value {\\n      tensor {\\n        dtype: DT_FLOAT\\n        tensor_shape {\\n        }\\n        float_val: -0.2156655490398407\\n      }\\n    }\\n  }\\n}\\nnode {\\n  name: &quot;GAN/discriminator/Dis_W2/Initializer/random_uniform/max&quot;\\n  op: &quot;Const&quot;\\n  attr {\\n    key: &quot;_class&quot;\\n    value {\\n      list {\\n        s: &quot;loc:@GAN/discriminator/Dis_W2&quot;\\n      }\\n    }\\n  }\\n  attr {\\n    key: &quot;dtype&quot;\\n    value {\\n      type: DT_FLOAT\\n    }\\n  }\\n  attr {\\n    key: &quot;value&quot;\\n    value {\\n      tensor {\\n        dtype: DT_FLOAT\\n        tensor_shape {\\n        }\\n        float_val: 0.2156655490398407\\n      }\\n    }\\n  }\\n}\\nnode {\\n  name: &quot;GAN/discriminator/Dis_W2/Initializer/random_uniform/RandomUniform&quot;\\n  op: &quot;RandomUniform&quot;\\n  input: &quot;GAN/discriminator/Dis_W2/Initializer/random_uniform/shape&quot;\\n  attr {\\n    key: &quot;T&quot;\\n    value {\\n      type: DT_INT32\\n    }\\n  }\\n  attr {\\n    key: &quot;_class&quot;\\n    value {\\n      list {\\n        s: &quot;loc:@GAN/discriminator/Dis_W2&quot;\\n      }\\n    }\\n  }\\n  attr {\\n    key: &quot;dtype&quot;\\n    value {\\n      type: DT_FLOAT\\n    }\\n  }\\n  attr {\\n    key: &quot;seed&quot;\\n    value {\\n      i: 0\\n    }\\n  }\\n  attr {\\n    key: &quot;seed2&quot;\\n    value {\\n      i: 0\\n    }\\n  }\\n}\\nnode {\\n  name: &quot;GAN/discriminator/Dis_W2/Initializer/random_uniform/sub&quot;\\n  op: &quot;Sub&quot;\\n  input: &quot;GAN/discriminator/Dis_W2/Initializer/random_uniform/max&quot;\\n  input: &quot;GAN/discriminator/Dis_W2/Initializer/random_uniform/min&quot;\\n  attr {\\n    key: &quot;T&quot;\\n    value {\\n      type: DT_FLOAT\\n    }\\n  }\\n  attr {\\n    key: &quot;_class&quot;\\n    value {\\n      list {\\n        s: &quot;loc:@GAN/discriminator/Dis_W2&quot;\\n      }\\n    }\\n  }\\n}\\nnode {\\n  name: &quot;GAN/discriminator/Dis_W2/Initializer/random_uniform/mul&quot;\\n  op: &quot;Mul&quot;\\n  input: &quot;GAN/discriminator/Dis_W2/Initializer/random_uniform/RandomUniform&quot;\\n  input: &quot;GAN/discriminator/Dis_W2/Initializer/random_uniform/sub&quot;\\n  attr {\\n    key: &quot;T&quot;\\n    value {\\n      type: DT_FLOAT\\n    }\\n  }\\n  attr {\\n    key: &quot;_class&quot;\\n    value {\\n      list {\\n        s: &quot;loc:@GAN/discriminator/Dis_W2&quot;\\n      }\\n    }\\n  }\\n}\\nnode {\\n  name: &quot;GAN/discriminator/Dis_W2/Initializer/random_uniform&quot;\\n  op: &quot;Add&quot;\\n  input: &quot;GAN/discriminator/Dis_W2/Initializer/random_uniform/mul&quot;\\n  input: &quot;GAN/discriminator/Dis_W2/Initializer/random_uniform/min&quot;\\n  attr {\\n    key: &quot;T&quot;\\n    value {\\n      type: DT_FLOAT\\n    }\\n  }\\n  attr {\\n    key: &quot;_class&quot;\\n    value {\\n      list {\\n        s: &quot;loc:@GAN/discriminator/Dis_W2&quot;\\n      }\\n    }\\n  }\\n}\\nnode {\\n  name: &quot;GAN/discriminator/Dis_W2&quot;\\n  op: &quot;VariableV2&quot;\\n  attr {\\n    key: &quot;_class&quot;\\n    value {\\n      list {\\n        s: &quot;loc:@GAN/discriminator/Dis_W2&quot;\\n      }\\n    }\\n  }\\n  attr {\\n    key: &quot;container&quot;\\n    value {\\n      s: &quot;&quot;\\n    }\\n  }\\n  attr {\\n    key: &quot;dtype&quot;\\n    value {\\n      type: DT_FLOAT\\n    }\\n  }\\n  attr {\\n    key: &quot;shape&quot;\\n    value {\\n      shape {\\n        dim {\\n          size: 128\\n        }\\n        dim {\\n          size: 1\\n        }\\n      }\\n    }\\n  }\\n  attr {\\n    key: &quot;shared_name&quot;\\n    value {\\n      s: &quot;&quot;\\n    }\\n  }\\n}\\nnode {\\n  name: &quot;GAN/discriminator/Dis_W2/Assign&quot;\\n  op: &quot;Assign&quot;\\n  input: &quot;GAN/discriminator/Dis_W2&quot;\\n  input: &quot;GAN/discriminator/Dis_W2/Initializer/random_uniform&quot;\\n  attr {\\n    key: &quot;T&quot;\\n    value {\\n      type: DT_FLOAT\\n    }\\n  }\\n  attr {\\n    key: &quot;_class&quot;\\n    value {\\n      list {\\n        s: &quot;loc:@GAN/discriminator/Dis_W2&quot;\\n      }\\n    }\\n  }\\n  attr {\\n    key: &quot;use_locking&quot;\\n    value {\\n      b: true\\n    }\\n  }\\n  attr {\\n    key: &quot;validate_shape&quot;\\n    value {\\n      b: true\\n    }\\n  }\\n}\\nnode {\\n  name: &quot;GAN/discriminator/Dis_W2/read&quot;\\n  op: &quot;Identity&quot;\\n  input: &quot;GAN/discriminator/Dis_W2&quot;\\n  attr {\\n    key: &quot;T&quot;\\n    value {\\n      type: DT_FLOAT\\n    }\\n  }\\n  attr {\\n    key: &quot;_class&quot;\\n    value {\\n      list {\\n        s: &quot;loc:@GAN/discriminator/Dis_W2&quot;\\n      }\\n    }\\n  }\\n}\\nnode {\\n  name: &quot;GAN/discriminator/Dis_B2/Initializer/Const&quot;\\n  op: &quot;Const&quot;\\n  attr {\\n    key: &quot;_class&quot;\\n    value {\\n      list {\\n        s: &quot;loc:@GAN/discriminator/Dis_B2&quot;\\n      }\\n    }\\n  }\\n  attr {\\n    key: &quot;dtype&quot;\\n    value {\\n      type: DT_FLOAT\\n    }\\n  }\\n  attr {\\n    key: &quot;value&quot;\\n    value {\\n      tensor {\\n        dtype: DT_FLOAT\\n        tensor_shape {\\n          dim {\\n            size: 1\\n          }\\n        }\\n        float_val: 0.0\\n      }\\n    }\\n  }\\n}\\nnode {\\n  name: &quot;GAN/discriminator/Dis_B2&quot;\\n  op: &quot;VariableV2&quot;\\n  attr {\\n    key: &quot;_class&quot;\\n    value {\\n      list {\\n        s: &quot;loc:@GAN/discriminator/Dis_B2&quot;\\n      }\\n    }\\n  }\\n  attr {\\n    key: &quot;container&quot;\\n    value {\\n      s: &quot;&quot;\\n    }\\n  }\\n  attr {\\n    key: &quot;dtype&quot;\\n    value {\\n      type: DT_FLOAT\\n    }\\n  }\\n  attr {\\n    key: &quot;shape&quot;\\n    value {\\n      shape {\\n        dim {\\n          size: 1\\n        }\\n      }\\n    }\\n  }\\n  attr {\\n    key: &quot;shared_name&quot;\\n    value {\\n      s: &quot;&quot;\\n    }\\n  }\\n}\\nnode {\\n  name: &quot;GAN/discriminator/Dis_B2/Assign&quot;\\n  op: &quot;Assign&quot;\\n  input: &quot;GAN/discriminator/Dis_B2&quot;\\n  input: &quot;GAN/discriminator/Dis_B2/Initializer/Const&quot;\\n  attr {\\n    key: &quot;T&quot;\\n    value {\\n      type: DT_FLOAT\\n    }\\n  }\\n  attr {\\n    key: &quot;_class&quot;\\n    value {\\n      list {\\n        s: &quot;loc:@GAN/discriminator/Dis_B2&quot;\\n      }\\n    }\\n  }\\n  attr {\\n    key: &quot;use_locking&quot;\\n    value {\\n      b: true\\n    }\\n  }\\n  attr {\\n    key: &quot;validate_shape&quot;\\n    value {\\n      b: true\\n    }\\n  }\\n}\\nnode {\\n  name: &quot;GAN/discriminator/Dis_B2/read&quot;\\n  op: &quot;Identity&quot;\\n  input: &quot;GAN/discriminator/Dis_B2&quot;\\n  attr {\\n    key: &quot;T&quot;\\n    value {\\n      type: DT_FLOAT\\n    }\\n  }\\n  attr {\\n    key: &quot;_class&quot;\\n    value {\\n      list {\\n        s: &quot;loc:@GAN/discriminator/Dis_B2&quot;\\n      }\\n    }\\n  }\\n}\\nnode {\\n  name: &quot;GAN/discriminator/weight1/tag&quot;\\n  op: &quot;Const&quot;\\n  attr {\\n    key: &quot;dtype&quot;\\n    value {\\n      type: DT_STRING\\n    }\\n  }\\n  attr {\\n    key: &quot;value&quot;\\n    value {\\n      tensor {\\n        dtype: DT_STRING\\n        tensor_shape {\\n        }\\n        string_val: &quot;GAN/discriminator/weight1&quot;\\n      }\\n    }\\n  }\\n}\\nnode {\\n  name: &quot;GAN/discriminator/weight1&quot;\\n  op: &quot;HistogramSummary&quot;\\n  input: &quot;GAN/discriminator/weight1/tag&quot;\\n  input: &quot;GAN/discriminator/Dis_W1/read&quot;\\n  attr {\\n    key: &quot;T&quot;\\n    value {\\n      type: DT_FLOAT\\n    }\\n  }\\n}\\nnode {\\n  name: &quot;GAN/discriminator/weight2/tag&quot;\\n  op: &quot;Const&quot;\\n  attr {\\n    key: &quot;dtype&quot;\\n    value {\\n      type: DT_STRING\\n    }\\n  }\\n  attr {\\n    key: &quot;value&quot;\\n    value {\\n      tensor {\\n        dtype: DT_STRING\\n        tensor_shape {\\n        }\\n        string_val: &quot;GAN/discriminator/weight2&quot;\\n      }\\n    }\\n  }\\n}\\nnode {\\n  name: &quot;GAN/discriminator/weight2&quot;\\n  op: &quot;HistogramSummary&quot;\\n  input: &quot;GAN/discriminator/weight2/tag&quot;\\n  input: &quot;GAN/discriminator/Dis_W2/read&quot;\\n  attr {\\n    key: &quot;T&quot;\\n    value {\\n      type: DT_FLOAT\\n    }\\n  }\\n}\\nnode {\\n  name: &quot;GAN/discriminator/biases1/tag&quot;\\n  op: &quot;Const&quot;\\n  attr {\\n    key: &quot;dtype&quot;\\n    value {\\n      type: DT_STRING\\n    }\\n  }\\n  attr {\\n    key: &quot;value&quot;\\n    value {\\n      tensor {\\n        dtype: DT_STRING\\n        tensor_shape {\\n        }\\n        string_val: &quot;GAN/discriminator/biases1&quot;\\n      }\\n    }\\n  }\\n}\\nnode {\\n  name: &quot;GAN/discriminator/biases1&quot;\\n  op: &quot;HistogramSummary&quot;\\n  input: &quot;GAN/discriminator/biases1/tag&quot;\\n  input: &quot;GAN/discriminator/Dis_B1/read&quot;\\n  attr {\\n    key: &quot;T&quot;\\n    value {\\n      type: DT_FLOAT\\n    }\\n  }\\n}\\nnode {\\n  name: &quot;GAN/discriminator/biases2/tag&quot;\\n  op: &quot;Const&quot;\\n  attr {\\n    key: &quot;dtype&quot;\\n    value {\\n      type: DT_STRING\\n    }\\n  }\\n  attr {\\n    key: &quot;value&quot;\\n    value {\\n      tensor {\\n        dtype: DT_STRING\\n        tensor_shape {\\n        }\\n        string_val: &quot;GAN/discriminator/biases2&quot;\\n      }\\n    }\\n  }\\n}\\nnode {\\n  name: &quot;GAN/discriminator/biases2&quot;\\n  op: &quot;HistogramSummary&quot;\\n  input: &quot;GAN/discriminator/biases2/tag&quot;\\n  input: &quot;GAN/discriminator/Dis_B2/read&quot;\\n  attr {\\n    key: &quot;T&quot;\\n    value {\\n      type: DT_FLOAT\\n    }\\n  }\\n}\\nnode {\\n  name: &quot;GAN/discriminator/MatMul&quot;\\n  op: &quot;MatMul&quot;\\n  input: &quot;Placeholder/Placeholder&quot;\\n  input: &quot;GAN/discriminator/Dis_W1/read&quot;\\n  attr {\\n    key: &quot;T&quot;\\n    value {\\n      type: DT_FLOAT\\n    }\\n  }\\n  attr {\\n    key: &quot;transpose_a&quot;\\n    value {\\n      b: false\\n    }\\n  }\\n  attr {\\n    key: &quot;transpose_b&quot;\\n    value {\\n      b: false\\n    }\\n  }\\n}\\nnode {\\n  name: &quot;GAN/discriminator/add&quot;\\n  op: &quot;Add&quot;\\n  input: &quot;GAN/discriminator/MatMul&quot;\\n  input: &quot;GAN/discriminator/Dis_B1/read&quot;\\n  attr {\\n    key: &quot;T&quot;\\n    value {\\n      type: DT_FLOAT\\n    }\\n  }\\n}\\nnode {\\n  name: &quot;GAN/discriminator/Elu&quot;\\n  op: &quot;Elu&quot;\\n  input: &quot;GAN/discriminator/add&quot;\\n  attr {\\n    key: &quot;T&quot;\\n    value {\\n      type: DT_FLOAT\\n    }\\n  }\\n}\\nnode {\\n  name: &quot;GAN/discriminator/dropout/keep_prob&quot;\\n  op: &quot;Const&quot;\\n  attr {\\n    key: &quot;dtype&quot;\\n    value {\\n      type: DT_FLOAT\\n    }\\n  }\\n  attr {\\n    key: &quot;value&quot;\\n    value {\\n      tensor {\\n        dtype: DT_FLOAT\\n        tensor_shape {\\n        }\\n        float_val: 0.5\\n      }\\n    }\\n  }\\n}\\nnode {\\n  name: &quot;GAN/discriminator/dropout/Shape&quot;\\n  op: &quot;Shape&quot;\\n  input: &quot;GAN/discriminator/Elu&quot;\\n  attr {\\n    key: &quot;T&quot;\\n    value {\\n      type: DT_FLOAT\\n    }\\n  }\\n  attr {\\n    key: &quot;out_type&quot;\\n    value {\\n      type: DT_INT32\\n    }\\n  }\\n}\\nnode {\\n  name: &quot;GAN/discriminator/dropout/random_uniform/min&quot;\\n  op: &quot;Const&quot;\\n  attr {\\n    key: &quot;dtype&quot;\\n    value {\\n      type: DT_FLOAT\\n    }\\n  }\\n  attr {\\n    key: &quot;value&quot;\\n    value {\\n      tensor {\\n        dtype: DT_FLOAT\\n        tensor_shape {\\n        }\\n        float_val: 0.0\\n      }\\n    }\\n  }\\n}\\nnode {\\n  name: &quot;GAN/discriminator/dropout/random_uniform/max&quot;\\n  op: &quot;Const&quot;\\n  attr {\\n    key: &quot;dtype&quot;\\n    value {\\n      type: DT_FLOAT\\n    }\\n  }\\n  attr {\\n    key: &quot;value&quot;\\n    value {\\n      tensor {\\n        dtype: DT_FLOAT\\n        tensor_shape {\\n        }\\n        float_val: 1.0\\n      }\\n    }\\n  }\\n}\\nnode {\\n  name: &quot;GAN/discriminator/dropout/random_uniform/RandomUniform&quot;\\n  op: &quot;RandomUniform&quot;\\n  input: &quot;GAN/discriminator/dropout/Shape&quot;\\n  attr {\\n    key: &quot;T&quot;\\n    value {\\n      type: DT_INT32\\n    }\\n  }\\n  attr {\\n    key: &quot;dtype&quot;\\n    value {\\n      type: DT_FLOAT\\n    }\\n  }\\n  attr {\\n    key: &quot;seed&quot;\\n    value {\\n      i: 0\\n    }\\n  }\\n  attr {\\n    key: &quot;seed2&quot;\\n    value {\\n      i: 0\\n    }\\n  }\\n}\\nnode {\\n  name: &quot;GAN/discriminator/dropout/random_uniform/sub&quot;\\n  op: &quot;Sub&quot;\\n  input: &quot;GAN/discriminator/dropout/random_uniform/max&quot;\\n  input: &quot;GAN/discriminator/dropout/random_uniform/min&quot;\\n  attr {\\n    key: &quot;T&quot;\\n    value {\\n      type: DT_FLOAT\\n    }\\n  }\\n}\\nnode {\\n  name: &quot;GAN/discriminator/dropout/random_uniform/mul&quot;\\n  op: &quot;Mul&quot;\\n  input: &quot;GAN/discriminator/dropout/random_uniform/RandomUniform&quot;\\n  input: &quot;GAN/discriminator/dropout/random_uniform/sub&quot;\\n  attr {\\n    key: &quot;T&quot;\\n    value {\\n      type: DT_FLOAT\\n    }\\n  }\\n}\\nnode {\\n  name: &quot;GAN/discriminator/dropout/random_uniform&quot;\\n  op: &quot;Add&quot;\\n  input: &quot;GAN/discriminator/dropout/random_uniform/mul&quot;\\n  input: &quot;GAN/discriminator/dropout/random_uniform/min&quot;\\n  attr {\\n    key: &quot;T&quot;\\n    value {\\n      type: DT_FLOAT\\n    }\\n  }\\n}\\nnode {\\n  name: &quot;GAN/discriminator/dropout/add&quot;\\n  op: &quot;Add&quot;\\n  input: &quot;GAN/discriminator/dropout/keep_prob&quot;\\n  input: &quot;GAN/discriminator/dropout/random_uniform&quot;\\n  attr {\\n    key: &quot;T&quot;\\n    value {\\n      type: DT_FLOAT\\n    }\\n  }\\n}\\nnode {\\n  name: &quot;GAN/discriminator/dropout/Floor&quot;\\n  op: &quot;Floor&quot;\\n  input: &quot;GAN/discriminator/dropout/add&quot;\\n  attr {\\n    key: &quot;T&quot;\\n    value {\\n      type: DT_FLOAT\\n    }\\n  }\\n}\\nnode {\\n  name: &quot;GAN/discriminator/dropout/div&quot;\\n  op: &quot;RealDiv&quot;\\n  input: &quot;GAN/discriminator/Elu&quot;\\n  input: &quot;GAN/discriminator/dropout/keep_prob&quot;\\n  attr {\\n    key: &quot;T&quot;\\n    value {\\n      type: DT_FLOAT\\n    }\\n  }\\n}\\nnode {\\n  name: &quot;GAN/discriminator/dropout/mul&quot;\\n  op: &quot;Mul&quot;\\n  input: &quot;GAN/discriminator/dropout/div&quot;\\n  input: &quot;GAN/discriminator/dropout/Floor&quot;\\n  attr {\\n    key: &quot;T&quot;\\n    value {\\n      type: DT_FLOAT\\n    }\\n  }\\n}\\nnode {\\n  name: &quot;GAN/discriminator/MatMul_1&quot;\\n  op: &quot;MatMul&quot;\\n  input: &quot;GAN/discriminator/dropout/mul&quot;\\n  input: &quot;GAN/discriminator/Dis_W2/read&quot;\\n  attr {\\n    key: &quot;T&quot;\\n    value {\\n      type: DT_FLOAT\\n    }\\n  }\\n  attr {\\n    key: &quot;transpose_a&quot;\\n    value {\\n      b: false\\n    }\\n  }\\n  attr {\\n    key: &quot;transpose_b&quot;\\n    value {\\n      b: false\\n    }\\n  }\\n}\\nnode {\\n  name: &quot;GAN/discriminator/add_1&quot;\\n  op: &quot;Add&quot;\\n  input: &quot;GAN/discriminator/MatMul_1&quot;\\n  input: &quot;GAN/discriminator/Dis_B2/read&quot;\\n  attr {\\n    key: &quot;T&quot;\\n    value {\\n      type: DT_FLOAT\\n    }\\n  }\\n}\\nnode {\\n  name: &quot;GAN/discriminator_1/weight1/tag&quot;\\n  op: &quot;Const&quot;\\n  attr {\\n    key: &quot;dtype&quot;\\n    value {\\n      type: DT_STRING\\n    }\\n  }\\n  attr {\\n    key: &quot;value&quot;\\n    value {\\n      tensor {\\n        dtype: DT_STRING\\n        tensor_shape {\\n        }\\n        string_val: &quot;GAN/discriminator_1/weight1&quot;\\n      }\\n    }\\n  }\\n}\\nnode {\\n  name: &quot;GAN/discriminator_1/weight1&quot;\\n  op: &quot;HistogramSummary&quot;\\n  input: &quot;GAN/discriminator_1/weight1/tag&quot;\\n  input: &quot;GAN/discriminator/Dis_W1/read&quot;\\n  attr {\\n    key: &quot;T&quot;\\n    value {\\n      type: DT_FLOAT\\n    }\\n  }\\n}\\nnode {\\n  name: &quot;GAN/discriminator_1/weight2/tag&quot;\\n  op: &quot;Const&quot;\\n  attr {\\n    key: &quot;dtype&quot;\\n    value {\\n      type: DT_STRING\\n    }\\n  }\\n  attr {\\n    key: &quot;value&quot;\\n    value {\\n      tensor {\\n        dtype: DT_STRING\\n        tensor_shape {\\n        }\\n        string_val: &quot;GAN/discriminator_1/weight2&quot;\\n      }\\n    }\\n  }\\n}\\nnode {\\n  name: &quot;GAN/discriminator_1/weight2&quot;\\n  op: &quot;HistogramSummary&quot;\\n  input: &quot;GAN/discriminator_1/weight2/tag&quot;\\n  input: &quot;GAN/discriminator/Dis_W2/read&quot;\\n  attr {\\n    key: &quot;T&quot;\\n    value {\\n      type: DT_FLOAT\\n    }\\n  }\\n}\\nnode {\\n  name: &quot;GAN/discriminator_1/biases1/tag&quot;\\n  op: &quot;Const&quot;\\n  attr {\\n    key: &quot;dtype&quot;\\n    value {\\n      type: DT_STRING\\n    }\\n  }\\n  attr {\\n    key: &quot;value&quot;\\n    value {\\n      tensor {\\n        dtype: DT_STRING\\n        tensor_shape {\\n        }\\n        string_val: &quot;GAN/discriminator_1/biases1&quot;\\n      }\\n    }\\n  }\\n}\\nnode {\\n  name: &quot;GAN/discriminator_1/biases1&quot;\\n  op: &quot;HistogramSummary&quot;\\n  input: &quot;GAN/discriminator_1/biases1/tag&quot;\\n  input: &quot;GAN/discriminator/Dis_B1/read&quot;\\n  attr {\\n    key: &quot;T&quot;\\n    value {\\n      type: DT_FLOAT\\n    }\\n  }\\n}\\nnode {\\n  name: &quot;GAN/discriminator_1/biases2/tag&quot;\\n  op: &quot;Const&quot;\\n  attr {\\n    key: &quot;dtype&quot;\\n    value {\\n      type: DT_STRING\\n    }\\n  }\\n  attr {\\n    key: &quot;value&quot;\\n    value {\\n      tensor {\\n        dtype: DT_STRING\\n        tensor_shape {\\n        }\\n        string_val: &quot;GAN/discriminator_1/biases2&quot;\\n      }\\n    }\\n  }\\n}\\nnode {\\n  name: &quot;GAN/discriminator_1/biases2&quot;\\n  op: &quot;HistogramSummary&quot;\\n  input: &quot;GAN/discriminator_1/biases2/tag&quot;\\n  input: &quot;GAN/discriminator/Dis_B2/read&quot;\\n  attr {\\n    key: &quot;T&quot;\\n    value {\\n      type: DT_FLOAT\\n    }\\n  }\\n}\\nnode {\\n  name: &quot;GAN/discriminator_1/MatMul&quot;\\n  op: &quot;MatMul&quot;\\n  input: &quot;GAN/generator/Sigmoid&quot;\\n  input: &quot;GAN/discriminator/Dis_W1/read&quot;\\n  attr {\\n    key: &quot;T&quot;\\n    value {\\n      type: DT_FLOAT\\n    }\\n  }\\n  attr {\\n    key: &quot;transpose_a&quot;\\n    value {\\n      b: false\\n    }\\n  }\\n  attr {\\n    key: &quot;transpose_b&quot;\\n    value {\\n      b: false\\n    }\\n  }\\n}\\nnode {\\n  name: &quot;GAN/discriminator_1/add&quot;\\n  op: &quot;Add&quot;\\n  input: &quot;GAN/discriminator_1/MatMul&quot;\\n  input: &quot;GAN/discriminator/Dis_B1/read&quot;\\n  attr {\\n    key: &quot;T&quot;\\n    value {\\n      type: DT_FLOAT\\n    }\\n  }\\n}\\nnode {\\n  name: &quot;GAN/discriminator_1/Elu&quot;\\n  op: &quot;Elu&quot;\\n  input: &quot;GAN/discriminator_1/add&quot;\\n  attr {\\n    key: &quot;T&quot;\\n    value {\\n      type: DT_FLOAT\\n    }\\n  }\\n}\\nnode {\\n  name: &quot;GAN/discriminator_1/dropout/keep_prob&quot;\\n  op: &quot;Const&quot;\\n  attr {\\n    key: &quot;dtype&quot;\\n    value {\\n      type: DT_FLOAT\\n    }\\n  }\\n  attr {\\n    key: &quot;value&quot;\\n    value {\\n      tensor {\\n        dtype: DT_FLOAT\\n        tensor_shape {\\n        }\\n        float_val: 0.5\\n      }\\n    }\\n  }\\n}\\nnode {\\n  name: &quot;GAN/discriminator_1/dropout/Shape&quot;\\n  op: &quot;Shape&quot;\\n  input: &quot;GAN/discriminator_1/Elu&quot;\\n  attr {\\n    key: &quot;T&quot;\\n    value {\\n      type: DT_FLOAT\\n    }\\n  }\\n  attr {\\n    key: &quot;out_type&quot;\\n    value {\\n      type: DT_INT32\\n    }\\n  }\\n}\\nnode {\\n  name: &quot;GAN/discriminator_1/dropout/random_uniform/min&quot;\\n  op: &quot;Const&quot;\\n  attr {\\n    key: &quot;dtype&quot;\\n    value {\\n      type: DT_FLOAT\\n    }\\n  }\\n  attr {\\n    key: &quot;value&quot;\\n    value {\\n      tensor {\\n        dtype: DT_FLOAT\\n        tensor_shape {\\n        }\\n        float_val: 0.0\\n      }\\n    }\\n  }\\n}\\nnode {\\n  name: &quot;GAN/discriminator_1/dropout/random_uniform/max&quot;\\n  op: &quot;Const&quot;\\n  attr {\\n    key: &quot;dtype&quot;\\n    value {\\n      type: DT_FLOAT\\n    }\\n  }\\n  attr {\\n    key: &quot;value&quot;\\n    value {\\n      tensor {\\n        dtype: DT_FLOAT\\n        tensor_shape {\\n        }\\n        float_val: 1.0\\n      }\\n    }\\n  }\\n}\\nnode {\\n  name: &quot;GAN/discriminator_1/dropout/random_uniform/RandomUniform&quot;\\n  op: &quot;RandomUniform&quot;\\n  input: &quot;GAN/discriminator_1/dropout/Shape&quot;\\n  attr {\\n    key: &quot;T&quot;\\n    value {\\n      type: DT_INT32\\n    }\\n  }\\n  attr {\\n    key: &quot;dtype&quot;\\n    value {\\n      type: DT_FLOAT\\n    }\\n  }\\n  attr {\\n    key: &quot;seed&quot;\\n    value {\\n      i: 0\\n    }\\n  }\\n  attr {\\n    key: &quot;seed2&quot;\\n    value {\\n      i: 0\\n    }\\n  }\\n}\\nnode {\\n  name: &quot;GAN/discriminator_1/dropout/random_uniform/sub&quot;\\n  op: &quot;Sub&quot;\\n  input: &quot;GAN/discriminator_1/dropout/random_uniform/max&quot;\\n  input: &quot;GAN/discriminator_1/dropout/random_uniform/min&quot;\\n  attr {\\n    key: &quot;T&quot;\\n    value {\\n      type: DT_FLOAT\\n    }\\n  }\\n}\\nnode {\\n  name: &quot;GAN/discriminator_1/dropout/random_uniform/mul&quot;\\n  op: &quot;Mul&quot;\\n  input: &quot;GAN/discriminator_1/dropout/random_uniform/RandomUniform&quot;\\n  input: &quot;GAN/discriminator_1/dropout/random_uniform/sub&quot;\\n  attr {\\n    key: &quot;T&quot;\\n    value {\\n      type: DT_FLOAT\\n    }\\n  }\\n}\\nnode {\\n  name: &quot;GAN/discriminator_1/dropout/random_uniform&quot;\\n  op: &quot;Add&quot;\\n  input: &quot;GAN/discriminator_1/dropout/random_uniform/mul&quot;\\n  input: &quot;GAN/discriminator_1/dropout/random_uniform/min&quot;\\n  attr {\\n    key: &quot;T&quot;\\n    value {\\n      type: DT_FLOAT\\n    }\\n  }\\n}\\nnode {\\n  name: &quot;GAN/discriminator_1/dropout/add&quot;\\n  op: &quot;Add&quot;\\n  input: &quot;GAN/discriminator_1/dropout/keep_prob&quot;\\n  input: &quot;GAN/discriminator_1/dropout/random_uniform&quot;\\n  attr {\\n    key: &quot;T&quot;\\n    value {\\n      type: DT_FLOAT\\n    }\\n  }\\n}\\nnode {\\n  name: &quot;GAN/discriminator_1/dropout/Floor&quot;\\n  op: &quot;Floor&quot;\\n  input: &quot;GAN/discriminator_1/dropout/add&quot;\\n  attr {\\n    key: &quot;T&quot;\\n    value {\\n      type: DT_FLOAT\\n    }\\n  }\\n}\\nnode {\\n  name: &quot;GAN/discriminator_1/dropout/div&quot;\\n  op: &quot;RealDiv&quot;\\n  input: &quot;GAN/discriminator_1/Elu&quot;\\n  input: &quot;GAN/discriminator_1/dropout/keep_prob&quot;\\n  attr {\\n    key: &quot;T&quot;\\n    value {\\n      type: DT_FLOAT\\n    }\\n  }\\n}\\nnode {\\n  name: &quot;GAN/discriminator_1/dropout/mul&quot;\\n  op: &quot;Mul&quot;\\n  input: &quot;GAN/discriminator_1/dropout/div&quot;\\n  input: &quot;GAN/discriminator_1/dropout/Floor&quot;\\n  attr {\\n    key: &quot;T&quot;\\n    value {\\n      type: DT_FLOAT\\n    }\\n  }\\n}\\nnode {\\n  name: &quot;GAN/discriminator_1/MatMul_1&quot;\\n  op: &quot;MatMul&quot;\\n  input: &quot;GAN/discriminator_1/dropout/mul&quot;\\n  input: &quot;GAN/discriminator/Dis_W2/read&quot;\\n  attr {\\n    key: &quot;T&quot;\\n    value {\\n      type: DT_FLOAT\\n    }\\n  }\\n  attr {\\n    key: &quot;transpose_a&quot;\\n    value {\\n      b: false\\n    }\\n  }\\n  attr {\\n    key: &quot;transpose_b&quot;\\n    value {\\n      b: false\\n    }\\n  }\\n}\\nnode {\\n  name: &quot;GAN/discriminator_1/add_1&quot;\\n  op: &quot;Add&quot;\\n  input: &quot;GAN/discriminator_1/MatMul_1&quot;\\n  input: &quot;GAN/discriminator/Dis_B2/read&quot;\\n  attr {\\n    key: &quot;T&quot;\\n    value {\\n      type: DT_FLOAT\\n    }\\n  }\\n}\\nnode {\\n  name: &quot;Reshape/shape&quot;\\n  op: &quot;Const&quot;\\n  attr {\\n    key: &quot;dtype&quot;\\n    value {\\n      type: DT_INT32\\n    }\\n  }\\n  attr {\\n    key: &quot;value&quot;\\n    value {\\n      tensor {\\n        dtype: DT_INT32\\n        tensor_shape {\\n          dim {\\n            size: 4\\n          }\\n        }\\n        tensor_content: &quot;\\\\377\\\\377\\\\377\\\\377\\\\034\\\\000\\\\000\\\\000\\\\034\\\\000\\\\000\\\\000\\\\001\\\\000\\\\000\\\\000&quot;\\n      }\\n    }\\n  }\\n}\\nnode {\\n  name: &quot;Reshape&quot;\\n  op: &quot;Reshape&quot;\\n  input: &quot;GAN/generator/Sigmoid&quot;\\n  input: &quot;Reshape/shape&quot;\\n  attr {\\n    key: &quot;T&quot;\\n    value {\\n      type: DT_FLOAT\\n    }\\n  }\\n  attr {\\n    key: &quot;Tshape&quot;\\n    value {\\n      type: DT_INT32\\n    }\\n  }\\n}\\nnode {\\n  name: &quot;Generated_Image/tag&quot;\\n  op: &quot;Const&quot;\\n  attr {\\n    key: &quot;dtype&quot;\\n    value {\\n      type: DT_STRING\\n    }\\n  }\\n  attr {\\n    key: &quot;value&quot;\\n    value {\\n      tensor {\\n        dtype: DT_STRING\\n        tensor_shape {\\n        }\\n        string_val: &quot;Generated_Image&quot;\\n      }\\n    }\\n  }\\n}\\nnode {\\n  name: &quot;Generated_Image&quot;\\n  op: &quot;ImageSummary&quot;\\n  input: &quot;Generated_Image/tag&quot;\\n  input: &quot;Reshape&quot;\\n  attr {\\n    key: &quot;T&quot;\\n    value {\\n      type: DT_FLOAT\\n    }\\n  }\\n  attr {\\n    key: &quot;bad_color&quot;\\n    value {\\n      tensor {\\n        dtype: DT_UINT8\\n        tensor_shape {\\n          dim {\\n            size: 4\\n          }\\n        }\\n        int_val: 255\\n        int_val: 0\\n        int_val: 0\\n        int_val: 255\\n      }\\n    }\\n  }\\n  attr {\\n    key: &quot;max_images&quot;\\n    value {\\n      i: 3\\n    }\\n  }\\n}\\nnode {\\n  name: &quot;Dis_loss/ones_like/Shape&quot;\\n  op: &quot;Shape&quot;\\n  input: &quot;GAN/discriminator/add_1&quot;\\n  attr {\\n    key: &quot;T&quot;\\n    value {\\n      type: DT_FLOAT\\n    }\\n  }\\n  attr {\\n    key: &quot;out_type&quot;\\n    value {\\n      type: DT_INT32\\n    }\\n  }\\n}\\nnode {\\n  name: &quot;Dis_loss/ones_like/Const&quot;\\n  op: &quot;Const&quot;\\n  attr {\\n    key: &quot;dtype&quot;\\n    value {\\n      type: DT_FLOAT\\n    }\\n  }\\n  attr {\\n    key: &quot;value&quot;\\n    value {\\n      tensor {\\n        dtype: DT_FLOAT\\n        tensor_shape {\\n        }\\n        float_val: 1.0\\n      }\\n    }\\n  }\\n}\\nnode {\\n  name: &quot;Dis_loss/ones_like&quot;\\n  op: &quot;Fill&quot;\\n  input: &quot;Dis_loss/ones_like/Shape&quot;\\n  input: &quot;Dis_loss/ones_like/Const&quot;\\n  attr {\\n    key: &quot;T&quot;\\n    value {\\n      type: DT_FLOAT\\n    }\\n  }\\n}\\nnode {\\n  name: &quot;Dis_loss/logistic_loss/zeros_like&quot;\\n  op: &quot;ZerosLike&quot;\\n  input: &quot;GAN/discriminator/add_1&quot;\\n  attr {\\n    key: &quot;T&quot;\\n    value {\\n      type: DT_FLOAT\\n    }\\n  }\\n}\\nnode {\\n  name: &quot;Dis_loss/logistic_loss/GreaterEqual&quot;\\n  op: &quot;GreaterEqual&quot;\\n  input: &quot;GAN/discriminator/add_1&quot;\\n  input: &quot;Dis_loss/logistic_loss/zeros_like&quot;\\n  attr {\\n    key: &quot;T&quot;\\n    value {\\n      type: DT_FLOAT\\n    }\\n  }\\n}\\nnode {\\n  name: &quot;Dis_loss/logistic_loss/Select&quot;\\n  op: &quot;Select&quot;\\n  input: &quot;Dis_loss/logistic_loss/GreaterEqual&quot;\\n  input: &quot;GAN/discriminator/add_1&quot;\\n  input: &quot;Dis_loss/logistic_loss/zeros_like&quot;\\n  attr {\\n    key: &quot;T&quot;\\n    value {\\n      type: DT_FLOAT\\n    }\\n  }\\n}\\nnode {\\n  name: &quot;Dis_loss/logistic_loss/Neg&quot;\\n  op: &quot;Neg&quot;\\n  input: &quot;GAN/discriminator/add_1&quot;\\n  attr {\\n    key: &quot;T&quot;\\n    value {\\n      type: DT_FLOAT\\n    }\\n  }\\n}\\nnode {\\n  name: &quot;Dis_loss/logistic_loss/Select_1&quot;\\n  op: &quot;Select&quot;\\n  input: &quot;Dis_loss/logistic_loss/GreaterEqual&quot;\\n  input: &quot;Dis_loss/logistic_loss/Neg&quot;\\n  input: &quot;GAN/discriminator/add_1&quot;\\n  attr {\\n    key: &quot;T&quot;\\n    value {\\n      type: DT_FLOAT\\n    }\\n  }\\n}\\nnode {\\n  name: &quot;Dis_loss/logistic_loss/mul&quot;\\n  op: &quot;Mul&quot;\\n  input: &quot;GAN/discriminator/add_1&quot;\\n  input: &quot;Dis_loss/ones_like&quot;\\n  attr {\\n    key: &quot;T&quot;\\n    value {\\n      type: DT_FLOAT\\n    }\\n  }\\n}\\nnode {\\n  name: &quot;Dis_loss/logistic_loss/sub&quot;\\n  op: &quot;Sub&quot;\\n  input: &quot;Dis_loss/logistic_loss/Select&quot;\\n  input: &quot;Dis_loss/logistic_loss/mul&quot;\\n  attr {\\n    key: &quot;T&quot;\\n    value {\\n      type: DT_FLOAT\\n    }\\n  }\\n}\\nnode {\\n  name: &quot;Dis_loss/logistic_loss/Exp&quot;\\n  op: &quot;Exp&quot;\\n  input: &quot;Dis_loss/logistic_loss/Select_1&quot;\\n  attr {\\n    key: &quot;T&quot;\\n    value {\\n      type: DT_FLOAT\\n    }\\n  }\\n}\\nnode {\\n  name: &quot;Dis_loss/logistic_loss/Log1p&quot;\\n  op: &quot;Log1p&quot;\\n  input: &quot;Dis_loss/logistic_loss/Exp&quot;\\n  attr {\\n    key: &quot;T&quot;\\n    value {\\n      type: DT_FLOAT\\n    }\\n  }\\n}\\nnode {\\n  name: &quot;Dis_loss/logistic_loss&quot;\\n  op: &quot;Add&quot;\\n  input: &quot;Dis_loss/logistic_loss/sub&quot;\\n  input: &quot;Dis_loss/logistic_loss/Log1p&quot;\\n  attr {\\n    key: &quot;T&quot;\\n    value {\\n      type: DT_FLOAT\\n    }\\n  }\\n}\\nnode {\\n  name: &quot;Dis_loss/Const&quot;\\n  op: &quot;Const&quot;\\n  attr {\\n    key: &quot;dtype&quot;\\n    value {\\n      type: DT_INT32\\n    }\\n  }\\n  attr {\\n    key: &quot;value&quot;\\n    value {\\n      tensor {\\n        dtype: DT_INT32\\n        tensor_shape {\\n          dim {\\n            size: 2\\n          }\\n        }\\n        tensor_content: &quot;\\\\000\\\\000\\\\000\\\\000\\\\001\\\\000\\\\000\\\\000&quot;\\n      }\\n    }\\n  }\\n}\\nnode {\\n  name: &quot;Dis_loss/Mean&quot;\\n  op: &quot;Mean&quot;\\n  input: &quot;Dis_loss/logistic_loss&quot;\\n  input: &quot;Dis_loss/Const&quot;\\n  attr {\\n    key: &quot;T&quot;\\n    value {\\n      type: DT_FLOAT\\n    }\\n  }\\n  attr {\\n    key: &quot;Tidx&quot;\\n    value {\\n      type: DT_INT32\\n    }\\n  }\\n  attr {\\n    key: &quot;keep_dims&quot;\\n    value {\\n      b: false\\n    }\\n  }\\n}\\nnode {\\n  name: &quot;Dis_loss/zeros_like&quot;\\n  op: &quot;ZerosLike&quot;\\n  input: &quot;GAN/discriminator_1/add_1&quot;\\n  attr {\\n    key: &quot;T&quot;\\n    value {\\n      type: DT_FLOAT\\n    }\\n  }\\n}\\nnode {\\n  name: &quot;Dis_loss/logistic_loss_1/zeros_like&quot;\\n  op: &quot;ZerosLike&quot;\\n  input: &quot;GAN/discriminator_1/add_1&quot;\\n  attr {\\n    key: &quot;T&quot;\\n    value {\\n      type: DT_FLOAT\\n    }\\n  }\\n}\\nnode {\\n  name: &quot;Dis_loss/logistic_loss_1/GreaterEqual&quot;\\n  op: &quot;GreaterEqual&quot;\\n  input: &quot;GAN/discriminator_1/add_1&quot;\\n  input: &quot;Dis_loss/logistic_loss_1/zeros_like&quot;\\n  attr {\\n    key: &quot;T&quot;\\n    value {\\n      type: DT_FLOAT\\n    }\\n  }\\n}\\nnode {\\n  name: &quot;Dis_loss/logistic_loss_1/Select&quot;\\n  op: &quot;Select&quot;\\n  input: &quot;Dis_loss/logistic_loss_1/GreaterEqual&quot;\\n  input: &quot;GAN/discriminator_1/add_1&quot;\\n  input: &quot;Dis_loss/logistic_loss_1/zeros_like&quot;\\n  attr {\\n    key: &quot;T&quot;\\n    value {\\n      type: DT_FLOAT\\n    }\\n  }\\n}\\nnode {\\n  name: &quot;Dis_loss/logistic_loss_1/Neg&quot;\\n  op: &quot;Neg&quot;\\n  input: &quot;GAN/discriminator_1/add_1&quot;\\n  attr {\\n    key: &quot;T&quot;\\n    value {\\n      type: DT_FLOAT\\n    }\\n  }\\n}\\nnode {\\n  name: &quot;Dis_loss/logistic_loss_1/Select_1&quot;\\n  op: &quot;Select&quot;\\n  input: &quot;Dis_loss/logistic_loss_1/GreaterEqual&quot;\\n  input: &quot;Dis_loss/logistic_loss_1/Neg&quot;\\n  input: &quot;GAN/discriminator_1/add_1&quot;\\n  attr {\\n    key: &quot;T&quot;\\n    value {\\n      type: DT_FLOAT\\n    }\\n  }\\n}\\nnode {\\n  name: &quot;Dis_loss/logistic_loss_1/mul&quot;\\n  op: &quot;Mul&quot;\\n  input: &quot;GAN/discriminator_1/add_1&quot;\\n  input: &quot;Dis_loss/zeros_like&quot;\\n  attr {\\n    key: &quot;T&quot;\\n    value {\\n      type: DT_FLOAT\\n    }\\n  }\\n}\\nnode {\\n  name: &quot;Dis_loss/logistic_loss_1/sub&quot;\\n  op: &quot;Sub&quot;\\n  input: &quot;Dis_loss/logistic_loss_1/Select&quot;\\n  input: &quot;Dis_loss/logistic_loss_1/mul&quot;\\n  attr {\\n    key: &quot;T&quot;\\n    value {\\n      type: DT_FLOAT\\n    }\\n  }\\n}\\nnode {\\n  name: &quot;Dis_loss/logistic_loss_1/Exp&quot;\\n  op: &quot;Exp&quot;\\n  input: &quot;Dis_loss/logistic_loss_1/Select_1&quot;\\n  attr {\\n    key: &quot;T&quot;\\n    value {\\n      type: DT_FLOAT\\n    }\\n  }\\n}\\nnode {\\n  name: &quot;Dis_loss/logistic_loss_1/Log1p&quot;\\n  op: &quot;Log1p&quot;\\n  input: &quot;Dis_loss/logistic_loss_1/Exp&quot;\\n  attr {\\n    key: &quot;T&quot;\\n    value {\\n      type: DT_FLOAT\\n    }\\n  }\\n}\\nnode {\\n  name: &quot;Dis_loss/logistic_loss_1&quot;\\n  op: &quot;Add&quot;\\n  input: &quot;Dis_loss/logistic_loss_1/sub&quot;\\n  input: &quot;Dis_loss/logistic_loss_1/Log1p&quot;\\n  attr {\\n    key: &quot;T&quot;\\n    value {\\n      type: DT_FLOAT\\n    }\\n  }\\n}\\nnode {\\n  name: &quot;Dis_loss/Const_1&quot;\\n  op: &quot;Const&quot;\\n  attr {\\n    key: &quot;dtype&quot;\\n    value {\\n      type: DT_INT32\\n    }\\n  }\\n  attr {\\n    key: &quot;value&quot;\\n    value {\\n      tensor {\\n        dtype: DT_INT32\\n        tensor_shape {\\n          dim {\\n            size: 2\\n          }\\n        }\\n        tensor_content: &quot;\\\\000\\\\000\\\\000\\\\000\\\\001\\\\000\\\\000\\\\000&quot;\\n      }\\n    }\\n  }\\n}\\nnode {\\n  name: &quot;Dis_loss/Mean_1&quot;\\n  op: &quot;Mean&quot;\\n  input: &quot;Dis_loss/logistic_loss_1&quot;\\n  input: &quot;Dis_loss/Const_1&quot;\\n  attr {\\n    key: &quot;T&quot;\\n    value {\\n      type: DT_FLOAT\\n    }\\n  }\\n  attr {\\n    key: &quot;Tidx&quot;\\n    value {\\n      type: DT_INT32\\n    }\\n  }\\n  attr {\\n    key: &quot;keep_dims&quot;\\n    value {\\n      b: false\\n    }\\n  }\\n}\\nnode {\\n  name: &quot;Dis_loss/add&quot;\\n  op: &quot;Add&quot;\\n  input: &quot;Dis_loss/Mean&quot;\\n  input: &quot;Dis_loss/Mean_1&quot;\\n  attr {\\n    key: &quot;T&quot;\\n    value {\\n      type: DT_FLOAT\\n    }\\n  }\\n}\\nnode {\\n  name: &quot;Dis_loss/Dis_loss_real/tags&quot;\\n  op: &quot;Const&quot;\\n  attr {\\n    key: &quot;dtype&quot;\\n    value {\\n      type: DT_STRING\\n    }\\n  }\\n  attr {\\n    key: &quot;value&quot;\\n    value {\\n      tensor {\\n        dtype: DT_STRING\\n        tensor_shape {\\n        }\\n        string_val: &quot;Dis_loss/Dis_loss_real&quot;\\n      }\\n    }\\n  }\\n}\\nnode {\\n  name: &quot;Dis_loss/Dis_loss_real&quot;\\n  op: &quot;ScalarSummary&quot;\\n  input: &quot;Dis_loss/Dis_loss_real/tags&quot;\\n  input: &quot;Dis_loss/Mean&quot;\\n  attr {\\n    key: &quot;T&quot;\\n    value {\\n      type: DT_FLOAT\\n    }\\n  }\\n}\\nnode {\\n  name: &quot;Dis_loss/Dis_loss_fake/tags&quot;\\n  op: &quot;Const&quot;\\n  attr {\\n    key: &quot;dtype&quot;\\n    value {\\n      type: DT_STRING\\n    }\\n  }\\n  attr {\\n    key: &quot;value&quot;\\n    value {\\n      tensor {\\n        dtype: DT_STRING\\n        tensor_shape {\\n        }\\n        string_val: &quot;Dis_loss/Dis_loss_fake&quot;\\n      }\\n    }\\n  }\\n}\\nnode {\\n  name: &quot;Dis_loss/Dis_loss_fake&quot;\\n  op: &quot;ScalarSummary&quot;\\n  input: &quot;Dis_loss/Dis_loss_fake/tags&quot;\\n  input: &quot;Dis_loss/Mean_1&quot;\\n  attr {\\n    key: &quot;T&quot;\\n    value {\\n      type: DT_FLOAT\\n    }\\n  }\\n}\\nnode {\\n  name: &quot;Dis_loss/Dis_Loss/tags&quot;\\n  op: &quot;Const&quot;\\n  attr {\\n    key: &quot;dtype&quot;\\n    value {\\n      type: DT_STRING\\n    }\\n  }\\n  attr {\\n    key: &quot;value&quot;\\n    value {\\n      tensor {\\n        dtype: DT_STRING\\n        tensor_shape {\\n        }\\n        string_val: &quot;Dis_loss/Dis_Loss&quot;\\n      }\\n    }\\n  }\\n}\\nnode {\\n  name: &quot;Dis_loss/Dis_Loss&quot;\\n  op: &quot;ScalarSummary&quot;\\n  input: &quot;Dis_loss/Dis_Loss/tags&quot;\\n  input: &quot;Dis_loss/add&quot;\\n  attr {\\n    key: &quot;T&quot;\\n    value {\\n      type: DT_FLOAT\\n    }\\n  }\\n}\\nnode {\\n  name: &quot;Gen_loss/ones_like/Shape&quot;\\n  op: &quot;Shape&quot;\\n  input: &quot;GAN/discriminator_1/add_1&quot;\\n  attr {\\n    key: &quot;T&quot;\\n    value {\\n      type: DT_FLOAT\\n    }\\n  }\\n  attr {\\n    key: &quot;out_type&quot;\\n    value {\\n      type: DT_INT32\\n    }\\n  }\\n}\\nnode {\\n  name: &quot;Gen_loss/ones_like/Const&quot;\\n  op: &quot;Const&quot;\\n  attr {\\n    key: &quot;dtype&quot;\\n    value {\\n      type: DT_FLOAT\\n    }\\n  }\\n  attr {\\n    key: &quot;value&quot;\\n    value {\\n      tensor {\\n        dtype: DT_FLOAT\\n        tensor_shape {\\n        }\\n        float_val: 1.0\\n      }\\n    }\\n  }\\n}\\nnode {\\n  name: &quot;Gen_loss/ones_like&quot;\\n  op: &quot;Fill&quot;\\n  input: &quot;Gen_loss/ones_like/Shape&quot;\\n  input: &quot;Gen_loss/ones_like/Const&quot;\\n  attr {\\n    key: &quot;T&quot;\\n    value {\\n      type: DT_FLOAT\\n    }\\n  }\\n}\\nnode {\\n  name: &quot;Gen_loss/logistic_loss/zeros_like&quot;\\n  op: &quot;ZerosLike&quot;\\n  input: &quot;GAN/discriminator_1/add_1&quot;\\n  attr {\\n    key: &quot;T&quot;\\n    value {\\n      type: DT_FLOAT\\n    }\\n  }\\n}\\nnode {\\n  name: &quot;Gen_loss/logistic_loss/GreaterEqual&quot;\\n  op: &quot;GreaterEqual&quot;\\n  input: &quot;GAN/discriminator_1/add_1&quot;\\n  input: &quot;Gen_loss/logistic_loss/zeros_like&quot;\\n  attr {\\n    key: &quot;T&quot;\\n    value {\\n      type: DT_FLOAT\\n    }\\n  }\\n}\\nnode {\\n  name: &quot;Gen_loss/logistic_loss/Select&quot;\\n  op: &quot;Select&quot;\\n  input: &quot;Gen_loss/logistic_loss/GreaterEqual&quot;\\n  input: &quot;GAN/discriminator_1/add_1&quot;\\n  input: &quot;Gen_loss/logistic_loss/zeros_like&quot;\\n  attr {\\n    key: &quot;T&quot;\\n    value {\\n      type: DT_FLOAT\\n    }\\n  }\\n}\\nnode {\\n  name: &quot;Gen_loss/logistic_loss/Neg&quot;\\n  op: &quot;Neg&quot;\\n  input: &quot;GAN/discriminator_1/add_1&quot;\\n  attr {\\n    key: &quot;T&quot;\\n    value {\\n      type: DT_FLOAT\\n    }\\n  }\\n}\\nnode {\\n  name: &quot;Gen_loss/logistic_loss/Select_1&quot;\\n  op: &quot;Select&quot;\\n  input: &quot;Gen_loss/logistic_loss/GreaterEqual&quot;\\n  input: &quot;Gen_loss/logistic_loss/Neg&quot;\\n  input: &quot;GAN/discriminator_1/add_1&quot;\\n  attr {\\n    key: &quot;T&quot;\\n    value {\\n      type: DT_FLOAT\\n    }\\n  }\\n}\\nnode {\\n  name: &quot;Gen_loss/logistic_loss/mul&quot;\\n  op: &quot;Mul&quot;\\n  input: &quot;GAN/discriminator_1/add_1&quot;\\n  input: &quot;Gen_loss/ones_like&quot;\\n  attr {\\n    key: &quot;T&quot;\\n    value {\\n      type: DT_FLOAT\\n    }\\n  }\\n}\\nnode {\\n  name: &quot;Gen_loss/logistic_loss/sub&quot;\\n  op: &quot;Sub&quot;\\n  input: &quot;Gen_loss/logistic_loss/Select&quot;\\n  input: &quot;Gen_loss/logistic_loss/mul&quot;\\n  attr {\\n    key: &quot;T&quot;\\n    value {\\n      type: DT_FLOAT\\n    }\\n  }\\n}\\nnode {\\n  name: &quot;Gen_loss/logistic_loss/Exp&quot;\\n  op: &quot;Exp&quot;\\n  input: &quot;Gen_loss/logistic_loss/Select_1&quot;\\n  attr {\\n    key: &quot;T&quot;\\n    value {\\n      type: DT_FLOAT\\n    }\\n  }\\n}\\nnode {\\n  name: &quot;Gen_loss/logistic_loss/Log1p&quot;\\n  op: &quot;Log1p&quot;\\n  input: &quot;Gen_loss/logistic_loss/Exp&quot;\\n  attr {\\n    key: &quot;T&quot;\\n    value {\\n      type: DT_FLOAT\\n    }\\n  }\\n}\\nnode {\\n  name: &quot;Gen_loss/logistic_loss&quot;\\n  op: &quot;Add&quot;\\n  input: &quot;Gen_loss/logistic_loss/sub&quot;\\n  input: &quot;Gen_loss/logistic_loss/Log1p&quot;\\n  attr {\\n    key: &quot;T&quot;\\n    value {\\n      type: DT_FLOAT\\n    }\\n  }\\n}\\nnode {\\n  name: &quot;Gen_loss/Const&quot;\\n  op: &quot;Const&quot;\\n  attr {\\n    key: &quot;dtype&quot;\\n    value {\\n      type: DT_INT32\\n    }\\n  }\\n  attr {\\n    key: &quot;value&quot;\\n    value {\\n      tensor {\\n        dtype: DT_INT32\\n        tensor_shape {\\n          dim {\\n            size: 2\\n          }\\n        }\\n        tensor_content: &quot;\\\\000\\\\000\\\\000\\\\000\\\\001\\\\000\\\\000\\\\000&quot;\\n      }\\n    }\\n  }\\n}\\nnode {\\n  name: &quot;Gen_loss/Mean&quot;\\n  op: &quot;Mean&quot;\\n  input: &quot;Gen_loss/logistic_loss&quot;\\n  input: &quot;Gen_loss/Const&quot;\\n  attr {\\n    key: &quot;T&quot;\\n    value {\\n      type: DT_FLOAT\\n    }\\n  }\\n  attr {\\n    key: &quot;Tidx&quot;\\n    value {\\n      type: DT_INT32\\n    }\\n  }\\n  attr {\\n    key: &quot;keep_dims&quot;\\n    value {\\n      b: false\\n    }\\n  }\\n}\\nnode {\\n  name: &quot;Gen_loss/Gen_Loss/tags&quot;\\n  op: &quot;Const&quot;\\n  attr {\\n    key: &quot;dtype&quot;\\n    value {\\n      type: DT_STRING\\n    }\\n  }\\n  attr {\\n    key: &quot;value&quot;\\n    value {\\n      tensor {\\n        dtype: DT_STRING\\n        tensor_shape {\\n        }\\n        string_val: &quot;Gen_loss/Gen_Loss&quot;\\n      }\\n    }\\n  }\\n}\\nnode {\\n  name: &quot;Gen_loss/Gen_Loss&quot;\\n  op: &quot;ScalarSummary&quot;\\n  input: &quot;Gen_loss/Gen_Loss/tags&quot;\\n  input: &quot;Gen_loss/Mean&quot;\\n  attr {\\n    key: &quot;T&quot;\\n    value {\\n      type: DT_FLOAT\\n    }\\n  }\\n}\\n';\n",
       "          }\n",
       "        </script>\n",
       "        <link rel=&quot;import&quot; href=&quot;https://tensorboard.appspot.com/tf-graph-basic.build.html&quot; onload=load()>\n",
       "        <div style=&quot;height:600px&quot;>\n",
       "          <tf-graph-basic id=&quot;graph0.17839727373798386&quot;></tf-graph-basic>\n",
       "        </div>\n",
       "    \"></iframe>\n",
       "    "
      ],
      "text/plain": [
       "<IPython.core.display.HTML object>"
      ]
     },
     "metadata": {},
     "output_type": "display_data"
    }
   ],
   "source": [
    "g = tf.get_default_graph()\n",
    "tf.summary.FileWriter(\"logs\", g).close()\n",
    "show_graph(g)"
   ]
  },
  {
   "cell_type": "markdown",
   "metadata": {},
   "source": [
    "define optimization operation"
   ]
  },
  {
   "cell_type": "code",
   "execution_count": 30,
   "metadata": {
    "collapsed": true
   },
   "outputs": [],
   "source": [
    "with tf.name_scope('Optimization'):\n",
    "    Dis_optimizer_tf = tf.train.AdamOptimizer(learning_rate=learning_rate).minimize(Dis_loss_tf, var_list=theta_D)\n",
    "    Gen_optimizer_tf = tf.train.AdamOptimizer(learning_rate=learning_rate).minimize(Gen_loss_tf, var_list=theta_G)"
   ]
  },
  {
   "cell_type": "markdown",
   "metadata": {},
   "source": [
    "Training"
   ]
  },
  {
   "cell_type": "markdown",
   "metadata": {},
   "source": [
    "Organize the generated images into 5x5 patches"
   ]
  },
  {
   "cell_type": "code",
   "execution_count": 31,
   "metadata": {
    "collapsed": true
   },
   "outputs": [],
   "source": [
    "def plot(samples):\n",
    "    fig = plt.figure(figsize=(5, 5))\n",
    "    gs = gridspec.GridSpec(5, 5)\n",
    "    gs.update(wspace=0.05, hspace=0.05)\n",
    "\n",
    "    for i, sample in enumerate(samples):\n",
    "        ax = plt.subplot(gs[i])\n",
    "        plt.axis('off')\n",
    "        ax.set_xticklabels([])\n",
    "        ax.set_yticklabels([])\n",
    "        ax.set_aspect('equal')\n",
    "        plt.imshow(sample.reshape(28, 28), cmap='Greys_r')\n",
    "    return fig"
   ]
  },
  {
   "cell_type": "markdown",
   "metadata": {},
   "source": [
    "**Loss function**\n",
    "\n",
    "- The loss function of a GAN is cross entropy\n",
    "- The true labels for the discriminator are the real images\n",
    "- The true labels for the discriminator are the fake images\n",
    "- We would like to minimize both the loss of the discriminator and the generator\n",
    "\n",
    "**Optimization**\n",
    "\n",
    "- We use Adam as our optimization method\n",
    "\n",
    "**Training**"
   ]
  },
  {
   "cell_type": "markdown",
   "metadata": {},
   "source": [
    "Tensorflow"
   ]
  },
  {
   "cell_type": "code",
   "execution_count": 32,
   "metadata": {
    "collapsed": false
   },
   "outputs": [
    {
     "name": "stdout",
     "output_type": "stream",
     "text": [
      "Epoch-0; dis_loss_tf: 1.058664083480835; gen_loss_tf: 4.349091053009033\n",
      "Epoch-1000; dis_loss_tf: 0.1335725337266922; gen_loss_tf: 5.057978630065918\n",
      "Epoch-2000; dis_loss_tf: 0.6714189648628235; gen_loss_tf: 2.6645262241363525\n",
      "Epoch-3000; dis_loss_tf: 0.6968380212783813; gen_loss_tf: 2.1577887535095215\n",
      "Epoch-4000; dis_loss_tf: 0.8439869284629822; gen_loss_tf: 1.7803955078125\n",
      "Epoch-5000; dis_loss_tf: 1.060929775238037; gen_loss_tf: 1.240724802017212\n",
      "Epoch-6000; dis_loss_tf: 1.0403419733047485; gen_loss_tf: 1.4204293489456177\n",
      "Epoch-7000; dis_loss_tf: 1.0830174684524536; gen_loss_tf: 1.1874723434448242\n",
      "Epoch-8000; dis_loss_tf: 0.9139600992202759; gen_loss_tf: 1.323685884475708\n",
      "Epoch-9000; dis_loss_tf: 1.0590968132019043; gen_loss_tf: 1.3762543201446533\n",
      "Epoch-10000; dis_loss_tf: 1.0897096395492554; gen_loss_tf: 1.338151454925537\n",
      "Epoch-11000; dis_loss_tf: 1.182374358177185; gen_loss_tf: 1.1691179275512695\n",
      "Epoch-12000; dis_loss_tf: 1.1625797748565674; gen_loss_tf: 1.3202258348464966\n",
      "Epoch-13000; dis_loss_tf: 1.1162610054016113; gen_loss_tf: 1.2176425457000732\n",
      "Epoch-14000; dis_loss_tf: 1.0996134281158447; gen_loss_tf: 1.2541944980621338\n"
     ]
    },
    {
     "ename": "KeyboardInterrupt",
     "evalue": "",
     "output_type": "error",
     "traceback": [
      "\u001b[0;31m---------------------------------------------------------------------------\u001b[0m",
      "\u001b[0;31mKeyboardInterrupt\u001b[0m                         Traceback (most recent call last)",
      "\u001b[0;32m<ipython-input-32-3e95ac663e60>\u001b[0m in \u001b[0;36m<module>\u001b[0;34m()\u001b[0m\n\u001b[1;32m     12\u001b[0m \u001b[0;32mfor\u001b[0m \u001b[0mepoch\u001b[0m \u001b[0;32min\u001b[0m \u001b[0mrange\u001b[0m\u001b[0;34m(\u001b[0m\u001b[0mnum_epochs\u001b[0m\u001b[0;34m)\u001b[0m\u001b[0;34m:\u001b[0m\u001b[0;34m\u001b[0m\u001b[0m\n\u001b[1;32m     13\u001b[0m     \u001b[0mX_minibatch\u001b[0m\u001b[0;34m,\u001b[0m \u001b[0m_\u001b[0m \u001b[0;34m=\u001b[0m \u001b[0mmnist\u001b[0m\u001b[0;34m.\u001b[0m\u001b[0mtrain\u001b[0m\u001b[0;34m.\u001b[0m\u001b[0mnext_batch\u001b[0m\u001b[0;34m(\u001b[0m\u001b[0mminibatch_size\u001b[0m\u001b[0;34m)\u001b[0m\u001b[0;34m\u001b[0m\u001b[0m\n\u001b[0;32m---> 14\u001b[0;31m     \u001b[0mbatch_noise\u001b[0m \u001b[0;34m=\u001b[0m \u001b[0msample_Z_tf\u001b[0m\u001b[0;34m(\u001b[0m\u001b[0mminibatch_size\u001b[0m\u001b[0;34m,\u001b[0m \u001b[0mg_input_size\u001b[0m\u001b[0;34m)\u001b[0m\u001b[0;34m\u001b[0m\u001b[0m\n\u001b[0m\u001b[1;32m     15\u001b[0m     \u001b[0;32mif\u001b[0m \u001b[0mepoch\u001b[0m \u001b[0;34m%\u001b[0m \u001b[0;36m1000\u001b[0m \u001b[0;34m==\u001b[0m \u001b[0;36m0\u001b[0m\u001b[0;34m:\u001b[0m\u001b[0;34m\u001b[0m\u001b[0m\n\u001b[1;32m     16\u001b[0m         \u001b[0msamples\u001b[0m \u001b[0;34m=\u001b[0m \u001b[0msess\u001b[0m\u001b[0;34m.\u001b[0m\u001b[0mrun\u001b[0m\u001b[0;34m(\u001b[0m\u001b[0mGen_tf\u001b[0m\u001b[0;34m,\u001b[0m \u001b[0mfeed_dict\u001b[0m\u001b[0;34m=\u001b[0m\u001b[0;34m{\u001b[0m\u001b[0mZ_tf\u001b[0m\u001b[0;34m:\u001b[0m \u001b[0msample_Z_tf\u001b[0m\u001b[0;34m(\u001b[0m\u001b[0;36m25\u001b[0m\u001b[0;34m,\u001b[0m \u001b[0mg_input_size\u001b[0m\u001b[0;34m)\u001b[0m\u001b[0;34m}\u001b[0m\u001b[0;34m)\u001b[0m\u001b[0;34m\u001b[0m\u001b[0m\n",
      "\u001b[0;32m<ipython-input-21-09341361bbaf>\u001b[0m in \u001b[0;36msample_Z_tf\u001b[0;34m(minibatch_size, g_input_size)\u001b[0m\n\u001b[1;32m      1\u001b[0m \u001b[0;32mdef\u001b[0m \u001b[0msample_Z_tf\u001b[0m\u001b[0;34m(\u001b[0m\u001b[0mminibatch_size\u001b[0m\u001b[0;34m,\u001b[0m \u001b[0mg_input_size\u001b[0m\u001b[0;34m)\u001b[0m\u001b[0;34m:\u001b[0m\u001b[0;34m\u001b[0m\u001b[0m\n\u001b[0;32m----> 2\u001b[0;31m     \u001b[0;32mreturn\u001b[0m \u001b[0mnp\u001b[0m\u001b[0;34m.\u001b[0m\u001b[0mrandom\u001b[0m\u001b[0;34m.\u001b[0m\u001b[0muniform\u001b[0m\u001b[0;34m(\u001b[0m\u001b[0;34m-\u001b[0m\u001b[0;36m1.0\u001b[0m\u001b[0;34m,\u001b[0m \u001b[0;36m1.0\u001b[0m\u001b[0;34m,\u001b[0m \u001b[0msize\u001b[0m\u001b[0;34m=\u001b[0m\u001b[0;34m[\u001b[0m\u001b[0mminibatch_size\u001b[0m\u001b[0;34m,\u001b[0m \u001b[0mg_input_size\u001b[0m\u001b[0;34m]\u001b[0m\u001b[0;34m)\u001b[0m\u001b[0;34m.\u001b[0m\u001b[0mastype\u001b[0m\u001b[0;34m(\u001b[0m\u001b[0mnp\u001b[0m\u001b[0;34m.\u001b[0m\u001b[0mfloat32\u001b[0m\u001b[0;34m)\u001b[0m\u001b[0;34m\u001b[0m\u001b[0m\n\u001b[0m\u001b[1;32m      3\u001b[0m \u001b[0;34m\u001b[0m\u001b[0m\n\u001b[1;32m      4\u001b[0m \u001b[0;32mdef\u001b[0m \u001b[0mgenerator_tf\u001b[0m\u001b[0;34m(\u001b[0m\u001b[0mz\u001b[0m\u001b[0;34m)\u001b[0m\u001b[0;34m:\u001b[0m\u001b[0;34m\u001b[0m\u001b[0m\n\u001b[1;32m      5\u001b[0m     \u001b[0;32mwith\u001b[0m \u001b[0mtf\u001b[0m\u001b[0;34m.\u001b[0m\u001b[0mvariable_scope\u001b[0m\u001b[0;34m(\u001b[0m\u001b[0;34m'generator'\u001b[0m\u001b[0;34m)\u001b[0m\u001b[0;34m:\u001b[0m\u001b[0;34m\u001b[0m\u001b[0m\n",
      "\u001b[0;31mKeyboardInterrupt\u001b[0m: "
     ]
    }
   ],
   "source": [
    "sess = tf.Session()\n",
    "sess.run(tf.global_variables_initializer())\n",
    "\n",
    "merged_summary = tf.summary.merge_all()\n",
    "writer = tf.summary.FileWriter('tmp/mnist/0')\n",
    "writer.add_graph(sess.graph)\n",
    "\n",
    "num_img = 0\n",
    "if not os.path.exists('out_tf/'):\n",
    "        os.makedirs('out_tf/')\n",
    "\n",
    "for epoch in range(num_epochs):\n",
    "    X_minibatch, _ = mnist.train.next_batch(minibatch_size)\n",
    "    batch_noise = sample_Z_tf(minibatch_size, g_input_size)\n",
    "    if epoch % 1000 == 0:\n",
    "        samples = sess.run(Gen_tf, feed_dict={Z_tf: sample_Z_tf(25, g_input_size)})\n",
    "        fig = plot(samples)\n",
    "        plt.savefig('out_tf/{}.png'.format(str(num_img).zfill(3)), bbox_inches='tight')\n",
    "        num_img += 1\n",
    "        plt.close(fig)\n",
    "\n",
    "    _, dis_loss_print = sess.run([Dis_optimizer_tf, Dis_loss_tf],\n",
    "                                   feed_dict={X_tf: X_minibatch, Z_tf: batch_noise})\n",
    "\n",
    "    _, gen_loss_print = sess.run([Gen_optimizer_tf, Gen_loss_tf],\n",
    "                                   feed_dict={Z_tf: batch_noise})\n",
    "\n",
    "    if epoch % 1000 == 0:\n",
    "        s = sess.run(merged_summary, feed_dict={X_tf: X_minibatch, Z_tf: batch_noise})\n",
    "        writer.add_summary(s, epoch)\n",
    "        print('Epoch-{}; dis_loss_tf: {}; gen_loss_tf: {}'.format(epoch, dis_loss_print, gen_loss_print))"
   ]
  },
  {
   "cell_type": "markdown",
   "metadata": {},
   "source": [
    "PyTorch"
   ]
  },
  {
   "cell_type": "markdown",
   "metadata": {},
   "source": [
    "initialization of loss function and optimization"
   ]
  },
  {
   "cell_type": "code",
   "execution_count": 34,
   "metadata": {
    "collapsed": false
   },
   "outputs": [],
   "source": [
    "loss = nn.BCELoss() \n",
    "ones_label = Variable(torch.ones(minibatch_size))\n",
    "zeros_label = Variable(torch.zeros(minibatch_size))\n",
    "Gen_optimizer_pt = optim.Adam(gnet.parameters(), lr= learning_rate)\n",
    "Dis_optimizer_pt = optim.Adam(dnet.parameters(), lr= learning_rate)"
   ]
  },
  {
   "cell_type": "markdown",
   "metadata": {},
   "source": [
    "training in pytorch"
   ]
  },
  {
   "cell_type": "code",
   "execution_count": 36,
   "metadata": {
    "collapsed": false
   },
   "outputs": [
    {
     "name": "stderr",
     "output_type": "stream",
     "text": [
      "/usr/local/lib/python3.5/site-packages/torch/nn/functional.py:767: UserWarning: Using a target size (torch.Size([128])) that is different to the input size (torch.Size([128, 1])) is deprecated. Please ensure they have the same size.\n",
      "  \"Please ensure they have the same size.\".format(target.size(), input.size()))\n"
     ]
    },
    {
     "name": "stdout",
     "output_type": "stream",
     "text": [
      "Epoch-0; dis_loss_pt: [  7.49839160e-07]; gen_loss_pt: [ 27.06110191]\n",
      "Epoch-1000; dis_loss_pt: [  1.38491089e-06]; gen_loss_pt: [ 27.215868]\n"
     ]
    },
    {
     "ename": "KeyboardInterrupt",
     "evalue": "",
     "output_type": "error",
     "traceback": [
      "\u001b[0;31m---------------------------------------------------------------------------\u001b[0m",
      "\u001b[0;31mKeyboardInterrupt\u001b[0m                         Traceback (most recent call last)",
      "\u001b[0;32m<ipython-input-36-0c5315d2bca6>\u001b[0m in \u001b[0;36m<module>\u001b[0;34m()\u001b[0m\n\u001b[1;32m     23\u001b[0m \u001b[0;34m\u001b[0m\u001b[0m\n\u001b[1;32m     24\u001b[0m     \u001b[0mDis_loss_pt\u001b[0m\u001b[0;34m.\u001b[0m\u001b[0mbackward\u001b[0m\u001b[0;34m(\u001b[0m\u001b[0mretain_graph\u001b[0m\u001b[0;34m=\u001b[0m\u001b[0;32mTrue\u001b[0m\u001b[0;34m)\u001b[0m \u001b[0;31m#error backpropagation\u001b[0m\u001b[0;34m\u001b[0m\u001b[0m\n\u001b[0;32m---> 25\u001b[0;31m     \u001b[0mDis_optimizer_pt\u001b[0m\u001b[0;34m.\u001b[0m\u001b[0mstep\u001b[0m\u001b[0;34m(\u001b[0m\u001b[0;34m)\u001b[0m \u001b[0;31m#make an update step\u001b[0m\u001b[0;34m\u001b[0m\u001b[0m\n\u001b[0m\u001b[1;32m     26\u001b[0m \u001b[0;34m\u001b[0m\u001b[0m\n\u001b[1;32m     27\u001b[0m     \u001b[0;31m#reset gradient\u001b[0m\u001b[0;34m\u001b[0m\u001b[0;34m\u001b[0m\u001b[0m\n",
      "\u001b[0;32m/usr/local/lib/python3.5/site-packages/torch/optim/adam.py\u001b[0m in \u001b[0;36mstep\u001b[0;34m(self, closure)\u001b[0m\n\u001b[1;32m     72\u001b[0m                 \u001b[0mstep_size\u001b[0m \u001b[0;34m=\u001b[0m \u001b[0mgroup\u001b[0m\u001b[0;34m[\u001b[0m\u001b[0;34m'lr'\u001b[0m\u001b[0;34m]\u001b[0m \u001b[0;34m*\u001b[0m \u001b[0mmath\u001b[0m\u001b[0;34m.\u001b[0m\u001b[0msqrt\u001b[0m\u001b[0;34m(\u001b[0m\u001b[0mbias_correction2\u001b[0m\u001b[0;34m)\u001b[0m \u001b[0;34m/\u001b[0m \u001b[0mbias_correction1\u001b[0m\u001b[0;34m\u001b[0m\u001b[0m\n\u001b[1;32m     73\u001b[0m \u001b[0;34m\u001b[0m\u001b[0m\n\u001b[0;32m---> 74\u001b[0;31m                 \u001b[0mp\u001b[0m\u001b[0;34m.\u001b[0m\u001b[0mdata\u001b[0m\u001b[0;34m.\u001b[0m\u001b[0maddcdiv_\u001b[0m\u001b[0;34m(\u001b[0m\u001b[0;34m-\u001b[0m\u001b[0mstep_size\u001b[0m\u001b[0;34m,\u001b[0m \u001b[0mexp_avg\u001b[0m\u001b[0;34m,\u001b[0m \u001b[0mdenom\u001b[0m\u001b[0;34m)\u001b[0m\u001b[0;34m\u001b[0m\u001b[0m\n\u001b[0m\u001b[1;32m     75\u001b[0m \u001b[0;34m\u001b[0m\u001b[0m\n\u001b[1;32m     76\u001b[0m         \u001b[0;32mreturn\u001b[0m \u001b[0mloss\u001b[0m\u001b[0;34m\u001b[0m\u001b[0m\n",
      "\u001b[0;31mKeyboardInterrupt\u001b[0m: "
     ]
    }
   ],
   "source": [
    "num_img = 0\n",
    "\n",
    "if not os.path.exists('out_pt/'):\n",
    "        os.makedirs('out_pt/')\n",
    "\n",
    "for epoch in range(num_epochs):\n",
    "    # sample data\n",
    "    Z_pt = Variable(z_sampler_pt(minibatch_size, g_input_size))\n",
    "    X_minibatch_pt, _ = mnist.train.next_batch(minibatch_size)\n",
    "\n",
    "    X_minibatch_pt = Variable(torch.from_numpy(X_minibatch_pt))  # convert from numpy to tensor\n",
    "\n",
    "    #reset gradient\n",
    "    Dis_optimizer_pt.zero_grad()\n",
    "\n",
    "    Gen_pt = gnet(Z_pt)\n",
    "    Dis_real_pt = dnet(X_minibatch_pt)\n",
    "    Dis_fake_pt = dnet(Gen_pt)\n",
    "\n",
    "    Dis_real_loss_pt = loss(Dis_real_pt, ones_label)\n",
    "    Dis_fake_loss_pt = loss(Dis_fake_pt, zeros_label)\n",
    "    Dis_loss_pt = Dis_real_loss_pt + Dis_fake_loss_pt\n",
    "\n",
    "    Dis_loss_pt.backward(retain_graph=True) #error backpropagation\n",
    "    Dis_optimizer_pt.step() #make an update step\n",
    "    \n",
    "    #reset gradient\n",
    "    Gen_optimizer_pt.zero_grad()\n",
    "\n",
    "    Gen_loss_pt = loss(Dis_fake_pt, ones_label)\n",
    "\n",
    "    Gen_loss_pt.backward(retain_graph=True)\n",
    "    Gen_optimizer_pt.step()\n",
    "\n",
    "\n",
    "    # we save images generated by the generator every 1000 epochs\n",
    "    if epoch % 1000 == 0:\n",
    "        print(\n",
    "            'Epoch-{}; dis_loss_pt: {}; gen_loss_pt: {}'.format(epoch, Dis_loss_pt.data.numpy(), Gen_loss_pt.data.numpy()))\n",
    "\n",
    "        samples_pt = gnet(Z_pt).data.numpy()[:25]\n",
    "\n",
    "        fig = plot(samples_pt)\n",
    "\n",
    "        plt.savefig('out_pt/{}.png'.format(str(num_img).zfill(3)), bbox_inches='tight')\n",
    "        num_img += 1\n",
    "        plt.close(fig)\n"
   ]
  },
  {
   "cell_type": "code",
   "execution_count": null,
   "metadata": {
    "collapsed": true
   },
   "outputs": [],
   "source": []
  }
 ],
 "metadata": {
  "kernelspec": {
   "display_name": "Python 3",
   "language": "python",
   "name": "python3"
  },
  "language_info": {
   "codemirror_mode": {
    "name": "ipython",
    "version": 3
   },
   "file_extension": ".py",
   "mimetype": "text/x-python",
   "name": "python",
   "nbconvert_exporter": "python",
   "pygments_lexer": "ipython3",
   "version": "3.5.2"
  }
 },
 "nbformat": 4,
 "nbformat_minor": 2
}
